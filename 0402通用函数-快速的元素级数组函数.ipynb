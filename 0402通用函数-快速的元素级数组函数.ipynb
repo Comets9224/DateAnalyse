{
 "cells": [
  {
   "metadata": {},
   "cell_type": "markdown",
   "source": "通用函数（即ufunc）是一种对ndarray中的数据执行元素级运算 的函数。你可以将其看做简单函数（接受一个或多个标量值，并 产生一个或多个标量值）的矢量化包装器。",
   "id": "75da350209082dd0"
  },
  {
   "metadata": {
    "ExecuteTime": {
     "end_time": "2024-08-04T05:37:20.244135Z",
     "start_time": "2024-08-04T05:37:20.086607Z"
    }
   },
   "cell_type": "code",
   "source": [
    "import numpy as np\n",
    "\n",
    "arr=np.arange(10)\n",
    "arr"
   ],
   "id": "8d4ca9643029a668",
   "outputs": [
    {
     "data": {
      "text/plain": [
       "array([0, 1, 2, 3, 4, 5, 6, 7, 8, 9])"
      ]
     },
     "execution_count": 1,
     "metadata": {},
     "output_type": "execute_result"
    }
   ],
   "execution_count": 1
  },
  {
   "metadata": {
    "ExecuteTime": {
     "end_time": "2024-08-04T05:41:04.611355Z",
     "start_time": "2024-08-04T05:41:04.606531Z"
    }
   },
   "cell_type": "code",
   "source": "np.sqrt(arr)\n",
   "id": "6e53eb2cd55b3a22",
   "outputs": [
    {
     "data": {
      "text/plain": [
       "array([0, 1, 2, 3, 4, 5, 6, 7, 8, 9])"
      ]
     },
     "execution_count": 4,
     "metadata": {},
     "output_type": "execute_result"
    }
   ],
   "execution_count": 4
  },
  {
   "metadata": {
    "ExecuteTime": {
     "end_time": "2024-08-04T05:38:34.477220Z",
     "start_time": "2024-08-04T05:38:34.472903Z"
    }
   },
   "cell_type": "code",
   "source": "np.exp(arr)",
   "id": "ac00446ecab7ac0c",
   "outputs": [
    {
     "data": {
      "text/plain": [
       "array([1.00000000e+00, 2.71828183e+00, 7.38905610e+00, 2.00855369e+01,\n",
       "       5.45981500e+01, 1.48413159e+02, 4.03428793e+02, 1.09663316e+03,\n",
       "       2.98095799e+03, 8.10308393e+03])"
      ]
     },
     "execution_count": 3,
     "metadata": {},
     "output_type": "execute_result"
    }
   ],
   "execution_count": 3
  },
  {
   "metadata": {
    "ExecuteTime": {
     "end_time": "2024-08-04T05:41:13.469067Z",
     "start_time": "2024-08-04T05:41:13.465676Z"
    }
   },
   "cell_type": "code",
   "source": "",
   "id": "481ab59c01b9cd70",
   "outputs": [
    {
     "data": {
      "text/plain": [
       "array([0, 1, 2, 3, 4, 5, 6, 7, 8, 9])"
      ]
     },
     "execution_count": 5,
     "metadata": {},
     "output_type": "execute_result"
    }
   ],
   "execution_count": 5
  },
  {
   "metadata": {
    "ExecuteTime": {
     "end_time": "2024-08-04T05:42:09.075402Z",
     "start_time": "2024-08-04T05:42:09.070870Z"
    }
   },
   "cell_type": "code",
   "source": [
    "x=np.random.randn(8)\n",
    "y=np.random.randn(8)\n",
    "x"
   ],
   "id": "61a60efe812d6be0",
   "outputs": [
    {
     "data": {
      "text/plain": [
       "array([-0.24464714, -1.56672474, -0.25979959,  0.45858723, -1.24503829,\n",
       "       -0.12270236,  0.03227224,  0.17306566])"
      ]
     },
     "execution_count": 6,
     "metadata": {},
     "output_type": "execute_result"
    }
   ],
   "execution_count": 6
  },
  {
   "metadata": {
    "ExecuteTime": {
     "end_time": "2024-08-04T05:42:16.930943Z",
     "start_time": "2024-08-04T05:42:16.927564Z"
    }
   },
   "cell_type": "code",
   "source": "y",
   "id": "9f3a4bb9b37c3fa8",
   "outputs": [
    {
     "data": {
      "text/plain": [
       "array([ 1.17926258,  0.58414903, -0.55714629,  3.10630587, -0.4928988 ,\n",
       "        2.36850387,  0.57701523, -1.02126024])"
      ]
     },
     "execution_count": 7,
     "metadata": {},
     "output_type": "execute_result"
    }
   ],
   "execution_count": 7
  },
  {
   "metadata": {
    "ExecuteTime": {
     "end_time": "2024-08-04T05:42:34.062226Z",
     "start_time": "2024-08-04T05:42:34.052715Z"
    }
   },
   "cell_type": "code",
   "source": "np.maximum(x,y)  #对应下标位置 选数值大的  选出",
   "id": "b73eb02ca646cf33",
   "outputs": [
    {
     "data": {
      "text/plain": [
       "array([ 1.17926258,  0.58414903, -0.25979959,  3.10630587, -0.4928988 ,\n",
       "        2.36850387,  0.57701523,  0.17306566])"
      ]
     },
     "execution_count": 8,
     "metadata": {},
     "output_type": "execute_result"
    }
   ],
   "execution_count": 8
  },
  {
   "metadata": {
    "ExecuteTime": {
     "end_time": "2024-08-04T05:44:14.460077Z",
     "start_time": "2024-08-04T05:44:14.455244Z"
    }
   },
   "cell_type": "code",
   "source": "np.minimum(x,y)\n",
   "id": "1223764dbf0aa43b",
   "outputs": [
    {
     "data": {
      "text/plain": [
       "array([-0.24464714, -1.56672474, -0.55714629,  0.45858723, -1.24503829,\n",
       "       -0.12270236,  0.03227224, -1.02126024])"
      ]
     },
     "execution_count": 10,
     "metadata": {},
     "output_type": "execute_result"
    }
   ],
   "execution_count": 10
  },
  {
   "metadata": {
    "ExecuteTime": {
     "end_time": "2024-08-04T05:45:17.189527Z",
     "start_time": "2024-08-04T05:45:17.183527Z"
    }
   },
   "cell_type": "code",
   "source": [
    "arr=np.random.randn(7)*5\n",
    "arr"
   ],
   "id": "6788da0770f3f9e6",
   "outputs": [
    {
     "data": {
      "text/plain": [
       "array([-11.31485964,  -6.71184374,   1.55168209,  -2.51914703,\n",
       "        -1.4875914 ,  -3.00720123,  -0.85246556])"
      ]
     },
     "execution_count": 13,
     "metadata": {},
     "output_type": "execute_result"
    }
   ],
   "execution_count": 13
  },
  {
   "metadata": {
    "ExecuteTime": {
     "end_time": "2024-08-04T06:03:20.669574Z",
     "start_time": "2024-08-04T06:03:20.665359Z"
    }
   },
   "cell_type": "code",
   "source": [
    "remainder,whole_part=np.modf(arr)#将数组中的整数和小数部分分开\n",
    "remainder\n"
   ],
   "id": "c253b028f3e3368f",
   "outputs": [
    {
     "data": {
      "text/plain": [
       "array([-0.31485964, -0.71184374,  0.55168209, -0.51914703, -0.4875914 ,\n",
       "       -0.00720123, -0.85246556])"
      ]
     },
     "execution_count": 14,
     "metadata": {},
     "output_type": "execute_result"
    }
   ],
   "execution_count": 14
  },
  {
   "metadata": {
    "ExecuteTime": {
     "end_time": "2024-08-04T06:04:09.155749Z",
     "start_time": "2024-08-04T06:04:09.151431Z"
    }
   },
   "cell_type": "code",
   "source": "whole_part",
   "id": "51d379d1d4735e20",
   "outputs": [
    {
     "data": {
      "text/plain": [
       "array([-11.,  -6.,   1.,  -2.,  -1.,  -3.,  -0.])"
      ]
     },
     "execution_count": 15,
     "metadata": {},
     "output_type": "execute_result"
    }
   ],
   "execution_count": 15
  },
  {
   "metadata": {},
   "cell_type": "markdown",
   "source": [
    "Ufuncs接受out选项，可以让他们在数组的原地进行操作\n",
    "arr\n"
   ],
   "id": "1aa601ee3d9c928b"
  },
  {
   "metadata": {
    "ExecuteTime": {
     "end_time": "2024-08-04T06:05:42.392957Z",
     "start_time": "2024-08-04T06:05:42.388523Z"
    }
   },
   "cell_type": "code",
   "source": "arr",
   "id": "c3699cad62907948",
   "outputs": [
    {
     "data": {
      "text/plain": [
       "array([-11.31485964,  -6.71184374,   1.55168209,  -2.51914703,\n",
       "        -1.4875914 ,  -3.00720123,  -0.85246556])"
      ]
     },
     "execution_count": 16,
     "metadata": {},
     "output_type": "execute_result"
    }
   ],
   "execution_count": 16
  },
  {
   "metadata": {
    "ExecuteTime": {
     "end_time": "2024-08-04T06:06:12.517503Z",
     "start_time": "2024-08-04T06:06:12.511861Z"
    }
   },
   "cell_type": "code",
   "source": "np.sqrt(arr)\n",
   "id": "4c755914c8c80d99",
   "outputs": [
    {
     "name": "stderr",
     "output_type": "stream",
     "text": [
      "C:\\Users\\73835\\AppData\\Local\\Temp\\ipykernel_28128\\1870496444.py:1: RuntimeWarning: invalid value encountered in sqrt\n",
      "  np.sqrt(arr)\n"
     ]
    },
    {
     "data": {
      "text/plain": [
       "array([       nan,        nan, 1.24566532,        nan,        nan,\n",
       "              nan,        nan])"
      ]
     },
     "execution_count": 18,
     "metadata": {},
     "output_type": "execute_result"
    }
   ],
   "execution_count": 18
  },
  {
   "metadata": {
    "ExecuteTime": {
     "end_time": "2024-08-04T06:06:35.807127Z",
     "start_time": "2024-08-04T06:06:35.803135Z"
    }
   },
   "cell_type": "code",
   "source": "np.sqrt(arr,arr)  #这个就是接受了out ，out回原数组输出",
   "id": "73abf34b26599d6",
   "outputs": [
    {
     "name": "stderr",
     "output_type": "stream",
     "text": [
      "C:\\Users\\73835\\AppData\\Local\\Temp\\ipykernel_28128\\420847243.py:1: RuntimeWarning: invalid value encountered in sqrt\n",
      "  np.sqrt(arr,arr)\n"
     ]
    },
    {
     "data": {
      "text/plain": [
       "array([       nan,        nan, 1.24566532,        nan,        nan,\n",
       "              nan,        nan])"
      ]
     },
     "execution_count": 19,
     "metadata": {},
     "output_type": "execute_result"
    }
   ],
   "execution_count": 19
  },
  {
   "metadata": {
    "ExecuteTime": {
     "end_time": "2024-08-04T06:06:54.381111Z",
     "start_time": "2024-08-04T06:06:54.376896Z"
    }
   },
   "cell_type": "code",
   "source": "arr",
   "id": "9124016d1491d8ea",
   "outputs": [
    {
     "data": {
      "text/plain": [
       "array([       nan,        nan, 1.24566532,        nan,        nan,\n",
       "              nan,        nan])"
      ]
     },
     "execution_count": 20,
     "metadata": {},
     "output_type": "execute_result"
    }
   ],
   "execution_count": 20
  },
  {
   "metadata": {},
   "cell_type": "markdown",
   "source": [
    "一元ufunc\n",
    "函数\n",
    "abs, fabs\n",
    "计算整数、浮点数或复数的绝对值。对于非复数值，可以使用更快的fabs。\n",
    "sqrt\n",
    "计算各元素的平方根。相当于arr ** 0.5。\n",
    "square\n",
    "计算各元素的平方。相当于arr ** 2。\n",
    "exp\n",
    "计算各元素的指数e。\n",
    "log, log10, log2, log1p\n",
    "计算自然对数（底数为e）、底数为10的log、底数为2的log、log(1 + x)。\n",
    "sign\n",
    "计算各元素的正负号：1（正数）、0（零）、-1（负数）。\n",
    "ceil\n",
    "计算各元素的ceiling值，即大于等于该值的最小整数。\n",
    "floor\n",
    "计算各元素的floor值，即小于等于该值的最大整数。\n",
    "rint\n",
    "将各元素值四舍五入到最接近的整数，保留dtype。\n",
    "modf\n",
    "将数组的小数和整数部分以两个独立数组的形式返回。\n",
    "isnan\n",
    "返回一个表示“哪些值是NaN（这不是一个数字）”的布尔型数组。\n",
    "isfinite, isinf\n",
    "分别返回一个表示“哪些元素是有穷的（非inf, 非NaN）”或“哪些元素是无穷的”的布尔型数组。\n",
    "cos, cosh, sin, sinh, tan, tanh\n",
    "普通型和双曲型三角函数。\n",
    "表4-3：一元ufunc（续）\n",
    "函数\n",
    "arccos, arccosh, arcsin, arcsinh, arctan, arctanh\n",
    "反三角函数。\n",
    "logical_not\n",
    "计算各元素not的真值。相当于-arr。"
   ],
   "id": "46f37bd7d96b6d71"
  },
  {
   "metadata": {
    "ExecuteTime": {
     "end_time": "2024-08-04T06:12:12.493219Z",
     "start_time": "2024-08-04T06:12:12.490808Z"
    }
   },
   "cell_type": "code",
   "source": "",
   "id": "1e54ea7d45f1b41b",
   "outputs": [],
   "execution_count": 20
  },
  {
   "metadata": {},
   "cell_type": "code",
   "outputs": [],
   "execution_count": null,
   "source": "",
   "id": "127a1ecbb2a2d948"
  }
 ],
 "metadata": {
  "kernelspec": {
   "display_name": "Python 3",
   "language": "python",
   "name": "python3"
  },
  "language_info": {
   "codemirror_mode": {
    "name": "ipython",
    "version": 2
   },
   "file_extension": ".py",
   "mimetype": "text/x-python",
   "name": "python",
   "nbconvert_exporter": "python",
   "pygments_lexer": "ipython2",
   "version": "2.7.6"
  }
 },
 "nbformat": 4,
 "nbformat_minor": 5
}
