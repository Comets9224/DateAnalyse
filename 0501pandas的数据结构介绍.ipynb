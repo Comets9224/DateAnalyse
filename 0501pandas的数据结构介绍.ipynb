{
 "cells": [
  {
   "metadata": {},
   "cell_type": "markdown",
   "source": "pandas是基于Numpy数组构建的，特别是基于数组的函数，和不使用for循环的数据出来，numpy适合统一的数据结构处理，pandas则支持混杂数据\n",
   "id": "972725c2712caa24"
  },
  {
   "metadata": {
    "ExecuteTime": {
     "end_time": "2024-08-07T09:04:09.835128Z",
     "start_time": "2024-08-07T09:04:09.829896Z"
    }
   },
   "cell_type": "code",
   "source": [
    "import pandas as pd\n",
    "from pandas import Series, DataFrame\n",
    "#两个主要的数据结构，Series 和DataFrame，Series类似一维数组，由Numpy数据类型和与之相关的数据标签(索引)组成。  \n",
    "obj=pd.Series([7,4,-5,3])\n",
    "obj\n",
    "\n"
   ],
   "id": "3b2766820b9b9236",
   "outputs": [
    {
     "data": {
      "text/plain": [
       "0    7\n",
       "1    4\n",
       "2   -5\n",
       "3    3\n",
       "dtype: int64"
      ]
     },
     "execution_count": 370,
     "metadata": {},
     "output_type": "execute_result"
    }
   ],
   "execution_count": 370
  },
  {
   "metadata": {
    "ExecuteTime": {
     "end_time": "2024-08-07T09:04:10.123248Z",
     "start_time": "2024-08-07T09:04:10.115689Z"
    }
   },
   "cell_type": "code",
   "source": "obj.dtype\n",
   "id": "5556366c327269f9",
   "outputs": [
    {
     "data": {
      "text/plain": [
       "dtype('int64')"
      ]
     },
     "execution_count": 371,
     "metadata": {},
     "output_type": "execute_result"
    }
   ],
   "execution_count": 371
  },
  {
   "metadata": {
    "ExecuteTime": {
     "end_time": "2024-08-07T09:04:10.135672Z",
     "start_time": "2024-08-07T09:04:10.132252Z"
    }
   },
   "cell_type": "code",
   "source": "#对于Series类型 索引在左边，值在右边，没有指定索引，会自动创建0到N-1的索引。",
   "id": "ae6e1a9d4bece90c",
   "outputs": [],
   "execution_count": 372
  },
  {
   "metadata": {},
   "cell_type": "markdown",
   "source": "可通过Series的values和index数学获取其数组表示形式和索引对象:\n",
   "id": "6dc0de246fc7b901"
  },
  {
   "metadata": {
    "ExecuteTime": {
     "end_time": "2024-08-07T09:04:10.145547Z",
     "start_time": "2024-08-07T09:04:10.138677Z"
    }
   },
   "cell_type": "code",
   "source": "obj.index",
   "id": "d17624b8f3e84a6b",
   "outputs": [
    {
     "data": {
      "text/plain": [
       "RangeIndex(start=0, stop=4, step=1)"
      ]
     },
     "execution_count": 373,
     "metadata": {},
     "output_type": "execute_result"
    }
   ],
   "execution_count": 373
  },
  {
   "metadata": {
    "ExecuteTime": {
     "end_time": "2024-08-07T09:04:10.159423Z",
     "start_time": "2024-08-07T09:04:10.155556Z"
    }
   },
   "cell_type": "code",
   "source": "obj.values",
   "id": "5c2745dbb180b031",
   "outputs": [
    {
     "data": {
      "text/plain": [
       "array([ 7,  4, -5,  3], dtype=int64)"
      ]
     },
     "execution_count": 374,
     "metadata": {},
     "output_type": "execute_result"
    }
   ],
   "execution_count": 374
  },
  {
   "metadata": {
    "ExecuteTime": {
     "end_time": "2024-08-07T09:04:10.199728Z",
     "start_time": "2024-08-07T09:04:10.195232Z"
    }
   },
   "cell_type": "code",
   "source": [
    "from operator import index\n",
    "\n",
    "#默认索引是数字0到  N-1\n",
    "#可以手动增加一些其他的索引\n",
    "obj2 = pd.Series([1, 2, 3, 4, 5],index=['f','d','b','a','c'])\n",
    "obj2"
   ],
   "id": "601a98334a49974d",
   "outputs": [
    {
     "data": {
      "text/plain": [
       "f    1\n",
       "d    2\n",
       "b    3\n",
       "a    4\n",
       "c    5\n",
       "dtype: int64"
      ]
     },
     "execution_count": 375,
     "metadata": {},
     "output_type": "execute_result"
    }
   ],
   "execution_count": 375
  },
  {
   "metadata": {
    "ExecuteTime": {
     "end_time": "2024-08-07T09:04:10.215228Z",
     "start_time": "2024-08-07T09:04:10.211406Z"
    }
   },
   "cell_type": "code",
   "source": "obj2.index",
   "id": "649d990809b315d4",
   "outputs": [
    {
     "data": {
      "text/plain": [
       "Index(['f', 'd', 'b', 'a', 'c'], dtype='object')"
      ]
     },
     "execution_count": 376,
     "metadata": {},
     "output_type": "execute_result"
    }
   ],
   "execution_count": 376
  },
  {
   "metadata": {
    "ExecuteTime": {
     "end_time": "2024-08-07T09:04:10.245516Z",
     "start_time": "2024-08-07T09:04:10.241232Z"
    }
   },
   "cell_type": "code",
   "source": "obj2['a']  #通过索引方式选取serises中的值",
   "id": "126cc0fcf51ca69e",
   "outputs": [
    {
     "data": {
      "text/plain": [
       "4"
      ]
     },
     "execution_count": 377,
     "metadata": {},
     "output_type": "execute_result"
    }
   ],
   "execution_count": 377
  },
  {
   "metadata": {
    "ExecuteTime": {
     "end_time": "2024-08-07T09:04:10.264902Z",
     "start_time": "2024-08-07T09:04:10.258917Z"
    }
   },
   "cell_type": "code",
   "source": "obj2[['a','b','c']]  #一组值，要用列表括起来",
   "id": "151a91f990dd0b35",
   "outputs": [
    {
     "data": {
      "text/plain": [
       "a    4\n",
       "b    3\n",
       "c    5\n",
       "dtype: int64"
      ]
     },
     "execution_count": 378,
     "metadata": {},
     "output_type": "execute_result"
    }
   ],
   "execution_count": 378
  },
  {
   "metadata": {},
   "cell_type": "markdown",
   "source": "['c', 'a', 'd']是索引列表，即使它包含的是字符串而不是整数。 使用NumPy函数或类似NumPy的运算（如根据布尔型数组进行 过滤、标量乘法、应用数学函数等）都会保留索引值的链接：",
   "id": "cc6e22a0b732bcf4"
  },
  {
   "metadata": {
    "ExecuteTime": {
     "end_time": "2024-08-07T09:04:10.281315Z",
     "start_time": "2024-08-07T09:04:10.276887Z"
    }
   },
   "cell_type": "code",
   "source": "obj2[obj2>3]\n",
   "id": "5152505c925eb444",
   "outputs": [
    {
     "data": {
      "text/plain": [
       "a    4\n",
       "c    5\n",
       "dtype: int64"
      ]
     },
     "execution_count": 379,
     "metadata": {},
     "output_type": "execute_result"
    }
   ],
   "execution_count": 379
  },
  {
   "metadata": {
    "ExecuteTime": {
     "end_time": "2024-08-07T09:04:10.315151Z",
     "start_time": "2024-08-07T09:04:10.306320Z"
    }
   },
   "cell_type": "code",
   "source": "obj2*2",
   "id": "57655fbd41da537b",
   "outputs": [
    {
     "data": {
      "text/plain": [
       "f     2\n",
       "d     4\n",
       "b     6\n",
       "a     8\n",
       "c    10\n",
       "dtype: int64"
      ]
     },
     "execution_count": 380,
     "metadata": {},
     "output_type": "execute_result"
    }
   ],
   "execution_count": 380
  },
  {
   "metadata": {
    "ExecuteTime": {
     "end_time": "2024-08-07T09:04:10.340765Z",
     "start_time": "2024-08-07T09:04:10.332112Z"
    }
   },
   "cell_type": "code",
   "source": [
    "import numpy as np\n",
    "\n",
    "np.exp(obj2)   #obj不是np的对象，但是可以用np处理  类型是通用的"
   ],
   "id": "7dcf2ab55dbaacfd",
   "outputs": [
    {
     "data": {
      "text/plain": [
       "f      2.718282\n",
       "d      7.389056\n",
       "b     20.085537\n",
       "a     54.598150\n",
       "c    148.413159\n",
       "dtype: float64"
      ]
     },
     "execution_count": 381,
     "metadata": {},
     "output_type": "execute_result"
    }
   ],
   "execution_count": 381
  },
  {
   "metadata": {
    "ExecuteTime": {
     "end_time": "2024-08-07T09:04:10.375501Z",
     "start_time": "2024-08-07T09:04:10.370769Z"
    }
   },
   "cell_type": "code",
   "source": [
    "#还可以将Series看成是一个定⻓的有序字典，因为它是索引值到 数据值的一个映射。它可以用在许多原本需要字典参数的函数中  可以当字典用\n",
    "'b'in obj2"
   ],
   "id": "fff32d5a9193aae0",
   "outputs": [
    {
     "data": {
      "text/plain": [
       "True"
      ]
     },
     "execution_count": 382,
     "metadata": {},
     "output_type": "execute_result"
    }
   ],
   "execution_count": 382
  },
  {
   "metadata": {
    "ExecuteTime": {
     "end_time": "2024-08-07T09:04:10.396737Z",
     "start_time": "2024-08-07T09:04:10.390563Z"
    }
   },
   "cell_type": "code",
   "source": [
    "#数据如果在字典中，也可以把字典转成Series类型\n",
    "sdata={'Ohio':35000,'Texas':71000}\n",
    "obj3=pd.Series(sdata)#强制类型转换\n",
    "obj3"
   ],
   "id": "ee127c7603bf041",
   "outputs": [
    {
     "data": {
      "text/plain": [
       "Ohio     35000\n",
       "Texas    71000\n",
       "dtype: int64"
      ]
     },
     "execution_count": 383,
     "metadata": {},
     "output_type": "execute_result"
    }
   ],
   "execution_count": 383
  },
  {
   "metadata": {
    "ExecuteTime": {
     "end_time": "2024-08-07T09:04:10.426220Z",
     "start_time": "2024-08-07T09:04:10.422741Z"
    }
   },
   "cell_type": "code",
   "source": [
    "states=['California', 'Ohio', 'Oregon','Texas']#你可以传入排好序的列表(列表而不是字典)的键以改变顺序,索引匹配的值自动放到对应位置\n",
    "obj4=pd.Series(sdata,index=states)"
   ],
   "id": "2986f6680c9cc3a4",
   "outputs": [],
   "execution_count": 384
  },
  {
   "metadata": {
    "ExecuteTime": {
     "end_time": "2024-08-07T09:04:10.441588Z",
     "start_time": "2024-08-07T09:04:10.437224Z"
    }
   },
   "cell_type": "code",
   "source": "obj4#NaN表示 not a number   表示缺失或者不是一个值",
   "id": "8228fe2d4fc4cb8d",
   "outputs": [
    {
     "data": {
      "text/plain": [
       "California        NaN\n",
       "Ohio          35000.0\n",
       "Oregon            NaN\n",
       "Texas         71000.0\n",
       "dtype: float64"
      ]
     },
     "execution_count": 385,
     "metadata": {},
     "output_type": "execute_result"
    }
   ],
   "execution_count": 385
  },
  {
   "metadata": {
    "ExecuteTime": {
     "end_time": "2024-08-07T09:04:10.470466Z",
     "start_time": "2024-08-07T09:04:10.466706Z"
    }
   },
   "cell_type": "code",
   "source": [
    "#使用pandas的isnull和notnull进行检测缺失的数据\n",
    "pd.isnull(obj4)\n"
   ],
   "id": "db41d93bdc0a04a5",
   "outputs": [
    {
     "data": {
      "text/plain": [
       "California     True\n",
       "Ohio          False\n",
       "Oregon         True\n",
       "Texas         False\n",
       "dtype: bool"
      ]
     },
     "execution_count": 386,
     "metadata": {},
     "output_type": "execute_result"
    }
   ],
   "execution_count": 386
  },
  {
   "metadata": {
    "ExecuteTime": {
     "end_time": "2024-08-07T09:04:10.485686Z",
     "start_time": "2024-08-07T09:04:10.479470Z"
    }
   },
   "cell_type": "code",
   "source": "pd.notnull(obj4)",
   "id": "6f1b9846634f6ea1",
   "outputs": [
    {
     "data": {
      "text/plain": [
       "California    False\n",
       "Ohio           True\n",
       "Oregon        False\n",
       "Texas          True\n",
       "dtype: bool"
      ]
     },
     "execution_count": 387,
     "metadata": {},
     "output_type": "execute_result"
    }
   ],
   "execution_count": 387
  },
  {
   "metadata": {
    "ExecuteTime": {
     "end_time": "2024-08-07T09:04:10.512125Z",
     "start_time": "2024-08-07T09:04:10.507691Z"
    }
   },
   "cell_type": "code",
   "source": [
    "#或者用类方法   也可以得到\n",
    "\n",
    "obj4.isnull()\n"
   ],
   "id": "5ac5bc471b6a037d",
   "outputs": [
    {
     "data": {
      "text/plain": [
       "California     True\n",
       "Ohio          False\n",
       "Oregon         True\n",
       "Texas         False\n",
       "dtype: bool"
      ]
     },
     "execution_count": 388,
     "metadata": {},
     "output_type": "execute_result"
    }
   ],
   "execution_count": 388
  },
  {
   "metadata": {
    "ExecuteTime": {
     "end_time": "2024-08-07T09:04:10.527705Z",
     "start_time": "2024-08-07T09:04:10.523130Z"
    }
   },
   "cell_type": "code",
   "source": [
    "#Series会根据确实的数据进行对其\n",
    "obj3"
   ],
   "id": "169bdd33a9ddfd1a",
   "outputs": [
    {
     "data": {
      "text/plain": [
       "Ohio     35000\n",
       "Texas    71000\n",
       "dtype: int64"
      ]
     },
     "execution_count": 389,
     "metadata": {},
     "output_type": "execute_result"
    }
   ],
   "execution_count": 389
  },
  {
   "metadata": {
    "ExecuteTime": {
     "end_time": "2024-08-07T09:04:10.555150Z",
     "start_time": "2024-08-07T09:04:10.550711Z"
    }
   },
   "cell_type": "code",
   "source": "obj4",
   "id": "862832115cd1f526",
   "outputs": [
    {
     "data": {
      "text/plain": [
       "California        NaN\n",
       "Ohio          35000.0\n",
       "Oregon            NaN\n",
       "Texas         71000.0\n",
       "dtype: float64"
      ]
     },
     "execution_count": 390,
     "metadata": {},
     "output_type": "execute_result"
    }
   ],
   "execution_count": 390
  },
  {
   "metadata": {
    "ExecuteTime": {
     "end_time": "2024-08-07T09:04:10.573106Z",
     "start_time": "2024-08-07T09:04:10.568155Z"
    }
   },
   "cell_type": "code",
   "source": "obj3+obj4  #数据对齐功能，类似数据库的join",
   "id": "84f596547bf631fd",
   "outputs": [
    {
     "data": {
      "text/plain": [
       "California         NaN\n",
       "Ohio           70000.0\n",
       "Oregon             NaN\n",
       "Texas         142000.0\n",
       "dtype: float64"
      ]
     },
     "execution_count": 391,
     "metadata": {},
     "output_type": "execute_result"
    }
   ],
   "execution_count": 391
  },
  {
   "metadata": {
    "ExecuteTime": {
     "end_time": "2024-08-07T09:04:10.587975Z",
     "start_time": "2024-08-07T09:04:10.583112Z"
    }
   },
   "cell_type": "code",
   "source": [
    "#Series对象本身及其索引都有一个name属性，该属性跟pandas其他的关键功能关系非常密切：  本身及其索引\n",
    "obj4.name='population'\n",
    "obj4.index.name='state'\n",
    "obj4"
   ],
   "id": "51607e05650e8f1a",
   "outputs": [
    {
     "data": {
      "text/plain": [
       "state\n",
       "California        NaN\n",
       "Ohio          35000.0\n",
       "Oregon            NaN\n",
       "Texas         71000.0\n",
       "Name: population, dtype: float64"
      ]
     },
     "execution_count": 392,
     "metadata": {},
     "output_type": "execute_result"
    }
   ],
   "execution_count": 392
  },
  {
   "metadata": {
    "ExecuteTime": {
     "end_time": "2024-08-07T09:04:10.628939Z",
     "start_time": "2024-08-07T09:04:10.621982Z"
    }
   },
   "cell_type": "code",
   "source": "obj",
   "id": "81f5205ca9c2c87d",
   "outputs": [
    {
     "data": {
      "text/plain": [
       "0    7\n",
       "1    4\n",
       "2   -5\n",
       "3    3\n",
       "dtype: int64"
      ]
     },
     "execution_count": 393,
     "metadata": {},
     "output_type": "execute_result"
    }
   ],
   "execution_count": 393
  },
  {
   "metadata": {
    "ExecuteTime": {
     "end_time": "2024-08-07T09:04:10.672416Z",
     "start_time": "2024-08-07T09:04:10.666118Z"
    }
   },
   "cell_type": "code",
   "source": [
    "obj.index=['Bob','Steve','Jeff','Ryan']\n",
    "obj  #直接改索引"
   ],
   "id": "4179be89a9e2f20b",
   "outputs": [
    {
     "data": {
      "text/plain": [
       "Bob      7\n",
       "Steve    4\n",
       "Jeff    -5\n",
       "Ryan     3\n",
       "dtype: int64"
      ]
     },
     "execution_count": 394,
     "metadata": {},
     "output_type": "execute_result"
    }
   ],
   "execution_count": 394
  },
  {
   "metadata": {},
   "cell_type": "markdown",
   "source": [
    "DataFrame是一个表格型的数据结构，它含有一组有序的列，每 列可以是不同的值类型（数值、字符串、布尔值等）。  DF对比Series :Series：\n",
    "\n",
    "一维，单一数据类型\n",
    "行索引\n",
    "适合一维操作（统计、过滤）\n",
    "从列表、字典、标量创建\n",
    "DataFrame：\n",
    "\n",
    "二维，多种数据类型\n",
    "行和列索引\n",
    "适合多维操作（数据透视、合并、分组）\n",
    "从二维数组、字典列表、Series字典创建"
   ],
   "id": "1d289dc88dce9314"
  },
  {
   "metadata": {},
   "cell_type": "markdown",
   "source": "DataFrame中的数据是以一个或多 个二维块存放的（而不是列表、字典或别的一维数据结构）。",
   "id": "b1b68a61b4aadc49"
  },
  {
   "metadata": {
    "ExecuteTime": {
     "end_time": "2024-08-07T09:04:10.698403Z",
     "start_time": "2024-08-07T09:04:10.691421Z"
    }
   },
   "cell_type": "code",
   "source": [
    "#建DataFrame 方法：直接传等长的列表或者Numpy数组组成的的字典\n",
    "data={'state':['California', 'Ohio', 'Oregon','Texas']\n",
    "      ,'year':[2000,2001,2002,2001],'pop':[1.5,1.7,3.6,2.9]\n",
    "      \n",
    "      }\n",
    "frame=pd.DataFrame(data)\n",
    "frame  #会自动加上索引，这就是有序排列"
   ],
   "id": "93f09d6a8e346b53",
   "outputs": [
    {
     "data": {
      "text/plain": [
       "        state  year  pop\n",
       "0  California  2000  1.5\n",
       "1        Ohio  2001  1.7\n",
       "2      Oregon  2002  3.6\n",
       "3       Texas  2001  2.9"
      ],
      "text/html": [
       "<div>\n",
       "<style scoped>\n",
       "    .dataframe tbody tr th:only-of-type {\n",
       "        vertical-align: middle;\n",
       "    }\n",
       "\n",
       "    .dataframe tbody tr th {\n",
       "        vertical-align: top;\n",
       "    }\n",
       "\n",
       "    .dataframe thead th {\n",
       "        text-align: right;\n",
       "    }\n",
       "</style>\n",
       "<table border=\"1\" class=\"dataframe\">\n",
       "  <thead>\n",
       "    <tr style=\"text-align: right;\">\n",
       "      <th></th>\n",
       "      <th>state</th>\n",
       "      <th>year</th>\n",
       "      <th>pop</th>\n",
       "    </tr>\n",
       "  </thead>\n",
       "  <tbody>\n",
       "    <tr>\n",
       "      <th>0</th>\n",
       "      <td>California</td>\n",
       "      <td>2000</td>\n",
       "      <td>1.5</td>\n",
       "    </tr>\n",
       "    <tr>\n",
       "      <th>1</th>\n",
       "      <td>Ohio</td>\n",
       "      <td>2001</td>\n",
       "      <td>1.7</td>\n",
       "    </tr>\n",
       "    <tr>\n",
       "      <th>2</th>\n",
       "      <td>Oregon</td>\n",
       "      <td>2002</td>\n",
       "      <td>3.6</td>\n",
       "    </tr>\n",
       "    <tr>\n",
       "      <th>3</th>\n",
       "      <td>Texas</td>\n",
       "      <td>2001</td>\n",
       "      <td>2.9</td>\n",
       "    </tr>\n",
       "  </tbody>\n",
       "</table>\n",
       "</div>"
      ]
     },
     "execution_count": 395,
     "metadata": {},
     "output_type": "execute_result"
    }
   ],
   "execution_count": 395
  },
  {
   "metadata": {
    "ExecuteTime": {
     "end_time": "2024-08-07T09:04:10.721075Z",
     "start_time": "2024-08-07T09:04:10.713409Z"
    }
   },
   "cell_type": "code",
   "source": [
    "#对于特别大的DataFrame，head 方法选取前5行\n",
    "frame.head()#但这里表格比较小 五行都没到"
   ],
   "id": "b291022ae1f9bad3",
   "outputs": [
    {
     "data": {
      "text/plain": [
       "        state  year  pop\n",
       "0  California  2000  1.5\n",
       "1        Ohio  2001  1.7\n",
       "2      Oregon  2002  3.6\n",
       "3       Texas  2001  2.9"
      ],
      "text/html": [
       "<div>\n",
       "<style scoped>\n",
       "    .dataframe tbody tr th:only-of-type {\n",
       "        vertical-align: middle;\n",
       "    }\n",
       "\n",
       "    .dataframe tbody tr th {\n",
       "        vertical-align: top;\n",
       "    }\n",
       "\n",
       "    .dataframe thead th {\n",
       "        text-align: right;\n",
       "    }\n",
       "</style>\n",
       "<table border=\"1\" class=\"dataframe\">\n",
       "  <thead>\n",
       "    <tr style=\"text-align: right;\">\n",
       "      <th></th>\n",
       "      <th>state</th>\n",
       "      <th>year</th>\n",
       "      <th>pop</th>\n",
       "    </tr>\n",
       "  </thead>\n",
       "  <tbody>\n",
       "    <tr>\n",
       "      <th>0</th>\n",
       "      <td>California</td>\n",
       "      <td>2000</td>\n",
       "      <td>1.5</td>\n",
       "    </tr>\n",
       "    <tr>\n",
       "      <th>1</th>\n",
       "      <td>Ohio</td>\n",
       "      <td>2001</td>\n",
       "      <td>1.7</td>\n",
       "    </tr>\n",
       "    <tr>\n",
       "      <th>2</th>\n",
       "      <td>Oregon</td>\n",
       "      <td>2002</td>\n",
       "      <td>3.6</td>\n",
       "    </tr>\n",
       "    <tr>\n",
       "      <th>3</th>\n",
       "      <td>Texas</td>\n",
       "      <td>2001</td>\n",
       "      <td>2.9</td>\n",
       "    </tr>\n",
       "  </tbody>\n",
       "</table>\n",
       "</div>"
      ]
     },
     "execution_count": 396,
     "metadata": {},
     "output_type": "execute_result"
    }
   ],
   "execution_count": 396
  },
  {
   "metadata": {
    "ExecuteTime": {
     "end_time": "2024-08-07T09:04:10.745052Z",
     "start_time": "2024-08-07T09:04:10.738080Z"
    }
   },
   "cell_type": "code",
   "source": [
    "#可以指定序列进行排列\n",
    "pd.DataFrame(data,columns=['pop','year'])#甚至能隐藏一些栏目"
   ],
   "id": "8bdcb889225358e7",
   "outputs": [
    {
     "data": {
      "text/plain": [
       "   pop  year\n",
       "0  1.5  2000\n",
       "1  1.7  2001\n",
       "2  3.6  2002\n",
       "3  2.9  2001"
      ],
      "text/html": [
       "<div>\n",
       "<style scoped>\n",
       "    .dataframe tbody tr th:only-of-type {\n",
       "        vertical-align: middle;\n",
       "    }\n",
       "\n",
       "    .dataframe tbody tr th {\n",
       "        vertical-align: top;\n",
       "    }\n",
       "\n",
       "    .dataframe thead th {\n",
       "        text-align: right;\n",
       "    }\n",
       "</style>\n",
       "<table border=\"1\" class=\"dataframe\">\n",
       "  <thead>\n",
       "    <tr style=\"text-align: right;\">\n",
       "      <th></th>\n",
       "      <th>pop</th>\n",
       "      <th>year</th>\n",
       "    </tr>\n",
       "  </thead>\n",
       "  <tbody>\n",
       "    <tr>\n",
       "      <th>0</th>\n",
       "      <td>1.5</td>\n",
       "      <td>2000</td>\n",
       "    </tr>\n",
       "    <tr>\n",
       "      <th>1</th>\n",
       "      <td>1.7</td>\n",
       "      <td>2001</td>\n",
       "    </tr>\n",
       "    <tr>\n",
       "      <th>2</th>\n",
       "      <td>3.6</td>\n",
       "      <td>2002</td>\n",
       "    </tr>\n",
       "    <tr>\n",
       "      <th>3</th>\n",
       "      <td>2.9</td>\n",
       "      <td>2001</td>\n",
       "    </tr>\n",
       "  </tbody>\n",
       "</table>\n",
       "</div>"
      ]
     },
     "execution_count": 397,
     "metadata": {},
     "output_type": "execute_result"
    }
   ],
   "execution_count": 397
  },
  {
   "metadata": {
    "ExecuteTime": {
     "end_time": "2024-08-07T09:04:10.775474Z",
     "start_time": "2024-08-07T09:04:10.767057Z"
    }
   },
   "cell_type": "code",
   "source": [
    "#传入的列找不到，结果中会有缺失值  会产生缺失值,会产生这一栏，但是是空值\n",
    "frame2=pd.DataFrame(data,columns=['year','one','two','three','state'])\n",
    "frame2"
   ],
   "id": "4fe0c374a16985ce",
   "outputs": [
    {
     "data": {
      "text/plain": [
       "   year  one  two three       state\n",
       "0  2000  NaN  NaN   NaN  California\n",
       "1  2001  NaN  NaN   NaN        Ohio\n",
       "2  2002  NaN  NaN   NaN      Oregon\n",
       "3  2001  NaN  NaN   NaN       Texas"
      ],
      "text/html": [
       "<div>\n",
       "<style scoped>\n",
       "    .dataframe tbody tr th:only-of-type {\n",
       "        vertical-align: middle;\n",
       "    }\n",
       "\n",
       "    .dataframe tbody tr th {\n",
       "        vertical-align: top;\n",
       "    }\n",
       "\n",
       "    .dataframe thead th {\n",
       "        text-align: right;\n",
       "    }\n",
       "</style>\n",
       "<table border=\"1\" class=\"dataframe\">\n",
       "  <thead>\n",
       "    <tr style=\"text-align: right;\">\n",
       "      <th></th>\n",
       "      <th>year</th>\n",
       "      <th>one</th>\n",
       "      <th>two</th>\n",
       "      <th>three</th>\n",
       "      <th>state</th>\n",
       "    </tr>\n",
       "  </thead>\n",
       "  <tbody>\n",
       "    <tr>\n",
       "      <th>0</th>\n",
       "      <td>2000</td>\n",
       "      <td>NaN</td>\n",
       "      <td>NaN</td>\n",
       "      <td>NaN</td>\n",
       "      <td>California</td>\n",
       "    </tr>\n",
       "    <tr>\n",
       "      <th>1</th>\n",
       "      <td>2001</td>\n",
       "      <td>NaN</td>\n",
       "      <td>NaN</td>\n",
       "      <td>NaN</td>\n",
       "      <td>Ohio</td>\n",
       "    </tr>\n",
       "    <tr>\n",
       "      <th>2</th>\n",
       "      <td>2002</td>\n",
       "      <td>NaN</td>\n",
       "      <td>NaN</td>\n",
       "      <td>NaN</td>\n",
       "      <td>Oregon</td>\n",
       "    </tr>\n",
       "    <tr>\n",
       "      <th>3</th>\n",
       "      <td>2001</td>\n",
       "      <td>NaN</td>\n",
       "      <td>NaN</td>\n",
       "      <td>NaN</td>\n",
       "      <td>Texas</td>\n",
       "    </tr>\n",
       "  </tbody>\n",
       "</table>\n",
       "</div>"
      ]
     },
     "execution_count": 398,
     "metadata": {},
     "output_type": "execute_result"
    }
   ],
   "execution_count": 398
  },
  {
   "metadata": {
    "ExecuteTime": {
     "end_time": "2024-08-07T09:04:10.792541Z",
     "start_time": "2024-08-07T09:04:10.788480Z"
    }
   },
   "cell_type": "code",
   "source": [
    "#DataFrame列(一维),能够将DataFrame 列获得成一个Series\n",
    "frame2['state']\n"
   ],
   "id": "e8ec105bf4ad900e",
   "outputs": [
    {
     "data": {
      "text/plain": [
       "0    California\n",
       "1          Ohio\n",
       "2        Oregon\n",
       "3         Texas\n",
       "Name: state, dtype: object"
      ]
     },
     "execution_count": 399,
     "metadata": {},
     "output_type": "execute_result"
    }
   ],
   "execution_count": 399
  },
  {
   "metadata": {
    "ExecuteTime": {
     "end_time": "2024-08-07T09:04:10.868242Z",
     "start_time": "2024-08-07T09:04:10.864810Z"
    }
   },
   "cell_type": "code",
   "source": "frame3=frame2.year  #()方法或属性的方式获取",
   "id": "930e2f9cd04b99cf",
   "outputs": [],
   "execution_count": 400
  },
  {
   "metadata": {},
   "cell_type": "markdown",
   "source": "笔记：IPython提供了类似属性的访问（即frame2.year）和tab补全。frame2[column]适用于任何列的名，但是frame2.column只有 在列名是一个合理的Python变量名时才适用。",
   "id": "94efccc8b7ad4315"
  },
  {
   "metadata": {
    "ExecuteTime": {
     "end_time": "2024-08-07T09:04:10.964387Z",
     "start_time": "2024-08-07T09:04:10.959246Z"
    }
   },
   "cell_type": "code",
   "source": "frame3.index=['year1','year2','year3','year4']",
   "id": "dbad85e07efaf58b",
   "outputs": [],
   "execution_count": 401
  },
  {
   "metadata": {
    "ExecuteTime": {
     "end_time": "2024-08-07T09:04:11.164126Z",
     "start_time": "2024-08-07T09:04:11.157483Z"
    }
   },
   "cell_type": "code",
   "source": "frame3",
   "id": "dc5c6c5895bd4ccf",
   "outputs": [
    {
     "data": {
      "text/plain": [
       "year1    2000\n",
       "year2    2001\n",
       "year3    2002\n",
       "year4    2001\n",
       "Name: year, dtype: int64"
      ]
     },
     "execution_count": 402,
     "metadata": {},
     "output_type": "execute_result"
    }
   ],
   "execution_count": 402
  },
  {
   "metadata": {
    "ExecuteTime": {
     "end_time": "2024-08-07T09:04:11.270198Z",
     "start_time": "2024-08-07T09:04:11.265704Z"
    }
   },
   "cell_type": "code",
   "source": "frame2=pd.DataFrame(data,columns=['year','one','two','three','state'])",
   "id": "acbaee49e1856e07",
   "outputs": [],
   "execution_count": 403
  },
  {
   "metadata": {},
   "cell_type": "markdown",
   "source": [
    "loc是Pandas中的一种索引方法，用于基于标签（索引名）进行数据选择和提取。它可以用于选择行、列或行列的子集。\n",
    "\n",
    "用法：\n",
    "选择行：\n",
    "\n",
    "df.loc['row_label']：选择指定行标签的行。\n",
    "选择列：\n",
    "\n",
    "df.loc[:, 'column_label']：选择指定列标签的列。\n",
    "选择行和列：\n",
    "\n",
    "df.loc['row_label', 'column_label']：选择特定的行和列。\n",
    "选择多个行或列：\n",
    "\n",
    "df.loc[['row1', 'row2'], ['col1', 'col2']]：选择多个行和列。"
   ],
   "id": "d62a643c8f152d90"
  },
  {
   "metadata": {
    "ExecuteTime": {
     "end_time": "2024-08-07T09:04:11.317132Z",
     "start_time": "2024-08-07T09:04:11.311201Z"
    }
   },
   "cell_type": "code",
   "source": [
    "\n",
    "frame2.loc[:'three']"
   ],
   "id": "af9b657029bbe480",
   "outputs": [
    {
     "data": {
      "text/plain": [
       "   year  one  two three       state\n",
       "0  2000  NaN  NaN   NaN  California\n",
       "1  2001  NaN  NaN   NaN        Ohio\n",
       "2  2002  NaN  NaN   NaN      Oregon\n",
       "3  2001  NaN  NaN   NaN       Texas"
      ],
      "text/html": [
       "<div>\n",
       "<style scoped>\n",
       "    .dataframe tbody tr th:only-of-type {\n",
       "        vertical-align: middle;\n",
       "    }\n",
       "\n",
       "    .dataframe tbody tr th {\n",
       "        vertical-align: top;\n",
       "    }\n",
       "\n",
       "    .dataframe thead th {\n",
       "        text-align: right;\n",
       "    }\n",
       "</style>\n",
       "<table border=\"1\" class=\"dataframe\">\n",
       "  <thead>\n",
       "    <tr style=\"text-align: right;\">\n",
       "      <th></th>\n",
       "      <th>year</th>\n",
       "      <th>one</th>\n",
       "      <th>two</th>\n",
       "      <th>three</th>\n",
       "      <th>state</th>\n",
       "    </tr>\n",
       "  </thead>\n",
       "  <tbody>\n",
       "    <tr>\n",
       "      <th>0</th>\n",
       "      <td>2000</td>\n",
       "      <td>NaN</td>\n",
       "      <td>NaN</td>\n",
       "      <td>NaN</td>\n",
       "      <td>California</td>\n",
       "    </tr>\n",
       "    <tr>\n",
       "      <th>1</th>\n",
       "      <td>2001</td>\n",
       "      <td>NaN</td>\n",
       "      <td>NaN</td>\n",
       "      <td>NaN</td>\n",
       "      <td>Ohio</td>\n",
       "    </tr>\n",
       "    <tr>\n",
       "      <th>2</th>\n",
       "      <td>2002</td>\n",
       "      <td>NaN</td>\n",
       "      <td>NaN</td>\n",
       "      <td>NaN</td>\n",
       "      <td>Oregon</td>\n",
       "    </tr>\n",
       "    <tr>\n",
       "      <th>3</th>\n",
       "      <td>2001</td>\n",
       "      <td>NaN</td>\n",
       "      <td>NaN</td>\n",
       "      <td>NaN</td>\n",
       "      <td>Texas</td>\n",
       "    </tr>\n",
       "  </tbody>\n",
       "</table>\n",
       "</div>"
      ]
     },
     "execution_count": 404,
     "metadata": {},
     "output_type": "execute_result"
    }
   ],
   "execution_count": 404
  },
  {
   "metadata": {
    "ExecuteTime": {
     "end_time": "2024-08-07T09:04:11.343046Z",
     "start_time": "2024-08-07T09:04:11.339137Z"
    }
   },
   "cell_type": "code",
   "source": [
    "#可以批量赋值\n",
    "frame2['debt']=16.5\n"
   ],
   "id": "ee59add19d66a116",
   "outputs": [],
   "execution_count": 405
  },
  {
   "metadata": {},
   "cell_type": "markdown",
   "source": "#定义好的表格 列的顺序修改  赋值的方式",
   "id": "a26d78002e6b06d5"
  },
  {
   "metadata": {
    "ExecuteTime": {
     "end_time": "2024-08-07T09:04:11.364365Z",
     "start_time": "2024-08-07T09:04:11.360050Z"
    }
   },
   "cell_type": "code",
   "source": "frame2=frame2[['year','state','debt']]  #列表里加列表才行",
   "id": "8eee74f1079102ab",
   "outputs": [],
   "execution_count": 406
  },
  {
   "metadata": {
    "ExecuteTime": {
     "end_time": "2024-08-07T09:04:11.385589Z",
     "start_time": "2024-08-07T09:04:11.383386Z"
    }
   },
   "cell_type": "code",
   "source": "",
   "id": "f8d727e1b5a4d4f0",
   "outputs": [],
   "execution_count": 406
  },
  {
   "metadata": {
    "ExecuteTime": {
     "end_time": "2024-08-07T09:04:11.429934Z",
     "start_time": "2024-08-07T09:04:11.424596Z"
    }
   },
   "cell_type": "code",
   "source": "frame2#上面给debt都赋了一个值\n",
   "id": "c9e6a2aebbb80d4a",
   "outputs": [
    {
     "data": {
      "text/plain": [
       "   year       state  debt\n",
       "0  2000  California  16.5\n",
       "1  2001        Ohio  16.5\n",
       "2  2002      Oregon  16.5\n",
       "3  2001       Texas  16.5"
      ],
      "text/html": [
       "<div>\n",
       "<style scoped>\n",
       "    .dataframe tbody tr th:only-of-type {\n",
       "        vertical-align: middle;\n",
       "    }\n",
       "\n",
       "    .dataframe tbody tr th {\n",
       "        vertical-align: top;\n",
       "    }\n",
       "\n",
       "    .dataframe thead th {\n",
       "        text-align: right;\n",
       "    }\n",
       "</style>\n",
       "<table border=\"1\" class=\"dataframe\">\n",
       "  <thead>\n",
       "    <tr style=\"text-align: right;\">\n",
       "      <th></th>\n",
       "      <th>year</th>\n",
       "      <th>state</th>\n",
       "      <th>debt</th>\n",
       "    </tr>\n",
       "  </thead>\n",
       "  <tbody>\n",
       "    <tr>\n",
       "      <th>0</th>\n",
       "      <td>2000</td>\n",
       "      <td>California</td>\n",
       "      <td>16.5</td>\n",
       "    </tr>\n",
       "    <tr>\n",
       "      <th>1</th>\n",
       "      <td>2001</td>\n",
       "      <td>Ohio</td>\n",
       "      <td>16.5</td>\n",
       "    </tr>\n",
       "    <tr>\n",
       "      <th>2</th>\n",
       "      <td>2002</td>\n",
       "      <td>Oregon</td>\n",
       "      <td>16.5</td>\n",
       "    </tr>\n",
       "    <tr>\n",
       "      <th>3</th>\n",
       "      <td>2001</td>\n",
       "      <td>Texas</td>\n",
       "      <td>16.5</td>\n",
       "    </tr>\n",
       "  </tbody>\n",
       "</table>\n",
       "</div>"
      ]
     },
     "execution_count": 407,
     "metadata": {},
     "output_type": "execute_result"
    }
   ],
   "execution_count": 407
  },
  {
   "metadata": {},
   "cell_type": "markdown",
   "source": [
    "赋值操作：你可以将一个列表或Series赋值给DataFrame的某一列。\n",
    "\n",
    "长度匹配：如果使用列表，长度必须与DataFrame的行数相同。\n",
    "\n",
    "索引匹配：如果使用Series，会根据索引匹配DataFrame的行。如果Series中的索引在DataFrame中不存在，则对应位置会填充NaN。\n",
    "\n",
    "\n"
   ],
   "id": "9b2cad8c8b409ccd"
  },
  {
   "metadata": {
    "ExecuteTime": {
     "end_time": "2024-08-07T09:04:11.470277Z",
     "start_time": "2024-08-07T09:04:11.460940Z"
    }
   },
   "cell_type": "code",
   "source": [
    "frame2['debt']=np.arange(4.)\n",
    "frame2"
   ],
   "id": "a349fec5227b2b15",
   "outputs": [
    {
     "data": {
      "text/plain": [
       "   year       state  debt\n",
       "0  2000  California   0.0\n",
       "1  2001        Ohio   1.0\n",
       "2  2002      Oregon   2.0\n",
       "3  2001       Texas   3.0"
      ],
      "text/html": [
       "<div>\n",
       "<style scoped>\n",
       "    .dataframe tbody tr th:only-of-type {\n",
       "        vertical-align: middle;\n",
       "    }\n",
       "\n",
       "    .dataframe tbody tr th {\n",
       "        vertical-align: top;\n",
       "    }\n",
       "\n",
       "    .dataframe thead th {\n",
       "        text-align: right;\n",
       "    }\n",
       "</style>\n",
       "<table border=\"1\" class=\"dataframe\">\n",
       "  <thead>\n",
       "    <tr style=\"text-align: right;\">\n",
       "      <th></th>\n",
       "      <th>year</th>\n",
       "      <th>state</th>\n",
       "      <th>debt</th>\n",
       "    </tr>\n",
       "  </thead>\n",
       "  <tbody>\n",
       "    <tr>\n",
       "      <th>0</th>\n",
       "      <td>2000</td>\n",
       "      <td>California</td>\n",
       "      <td>0.0</td>\n",
       "    </tr>\n",
       "    <tr>\n",
       "      <th>1</th>\n",
       "      <td>2001</td>\n",
       "      <td>Ohio</td>\n",
       "      <td>1.0</td>\n",
       "    </tr>\n",
       "    <tr>\n",
       "      <th>2</th>\n",
       "      <td>2002</td>\n",
       "      <td>Oregon</td>\n",
       "      <td>2.0</td>\n",
       "    </tr>\n",
       "    <tr>\n",
       "      <th>3</th>\n",
       "      <td>2001</td>\n",
       "      <td>Texas</td>\n",
       "      <td>3.0</td>\n",
       "    </tr>\n",
       "  </tbody>\n",
       "</table>\n",
       "</div>"
      ]
     },
     "execution_count": 408,
     "metadata": {},
     "output_type": "execute_result"
    }
   ],
   "execution_count": 408
  },
  {
   "metadata": {
    "ExecuteTime": {
     "end_time": "2024-08-07T09:04:11.477309Z",
     "start_time": "2024-08-07T09:04:11.471281Z"
    }
   },
   "cell_type": "code",
   "source": [
    "\n",
    "#之前上面是批量赋值同一个数 ，现在是单独赋值。 用一个serices类型，val=pd.Series([])\n",
    "val=pd.Series([-1.2,-1.5,-1.7],index=['0','1','2'])\n",
    "frame2['debt']=val\n",
    "frame2"
   ],
   "id": "424d20b89a6de533",
   "outputs": [
    {
     "data": {
      "text/plain": [
       "   year       state  debt\n",
       "0  2000  California   NaN\n",
       "1  2001        Ohio   NaN\n",
       "2  2002      Oregon   NaN\n",
       "3  2001       Texas   NaN"
      ],
      "text/html": [
       "<div>\n",
       "<style scoped>\n",
       "    .dataframe tbody tr th:only-of-type {\n",
       "        vertical-align: middle;\n",
       "    }\n",
       "\n",
       "    .dataframe tbody tr th {\n",
       "        vertical-align: top;\n",
       "    }\n",
       "\n",
       "    .dataframe thead th {\n",
       "        text-align: right;\n",
       "    }\n",
       "</style>\n",
       "<table border=\"1\" class=\"dataframe\">\n",
       "  <thead>\n",
       "    <tr style=\"text-align: right;\">\n",
       "      <th></th>\n",
       "      <th>year</th>\n",
       "      <th>state</th>\n",
       "      <th>debt</th>\n",
       "    </tr>\n",
       "  </thead>\n",
       "  <tbody>\n",
       "    <tr>\n",
       "      <th>0</th>\n",
       "      <td>2000</td>\n",
       "      <td>California</td>\n",
       "      <td>NaN</td>\n",
       "    </tr>\n",
       "    <tr>\n",
       "      <th>1</th>\n",
       "      <td>2001</td>\n",
       "      <td>Ohio</td>\n",
       "      <td>NaN</td>\n",
       "    </tr>\n",
       "    <tr>\n",
       "      <th>2</th>\n",
       "      <td>2002</td>\n",
       "      <td>Oregon</td>\n",
       "      <td>NaN</td>\n",
       "    </tr>\n",
       "    <tr>\n",
       "      <th>3</th>\n",
       "      <td>2001</td>\n",
       "      <td>Texas</td>\n",
       "      <td>NaN</td>\n",
       "    </tr>\n",
       "  </tbody>\n",
       "</table>\n",
       "</div>"
      ]
     },
     "execution_count": 409,
     "metadata": {},
     "output_type": "execute_result"
    }
   ],
   "execution_count": 409
  },
  {
   "metadata": {
    "ExecuteTime": {
     "end_time": "2024-08-07T09:04:11.491223Z",
     "start_time": "2024-08-07T09:04:11.484314Z"
    }
   },
   "cell_type": "code",
   "source": [
    "data = {\n",
    "    'year': [2000, 2001, 2002, 2001, 2002, 2003],\n",
    "    'state': ['Ohio', 'Ohio', 'Ohio', 'Nevada', 'Nevada', 'Nevada'],\n",
    "    'pop': [1.5, 1.7, 3.6, 2.4, 2.9, 3.2]\n",
    "}\n",
    "\n",
    "index = ['one', 'two', 'three', 'four', 'five', 'six']\n",
    "\n",
    "frame2 = pd.DataFrame(data, index=index)\n",
    "\n",
    "# 修改 'debt' 列\n",
    "frame2['debt'] = np.arange(6.)\n",
    "frame2\n"
   ],
   "id": "28acce6da3428905",
   "outputs": [
    {
     "data": {
      "text/plain": [
       "       year   state  pop  debt\n",
       "one    2000    Ohio  1.5   0.0\n",
       "two    2001    Ohio  1.7   1.0\n",
       "three  2002    Ohio  3.6   2.0\n",
       "four   2001  Nevada  2.4   3.0\n",
       "five   2002  Nevada  2.9   4.0\n",
       "six    2003  Nevada  3.2   5.0"
      ],
      "text/html": [
       "<div>\n",
       "<style scoped>\n",
       "    .dataframe tbody tr th:only-of-type {\n",
       "        vertical-align: middle;\n",
       "    }\n",
       "\n",
       "    .dataframe tbody tr th {\n",
       "        vertical-align: top;\n",
       "    }\n",
       "\n",
       "    .dataframe thead th {\n",
       "        text-align: right;\n",
       "    }\n",
       "</style>\n",
       "<table border=\"1\" class=\"dataframe\">\n",
       "  <thead>\n",
       "    <tr style=\"text-align: right;\">\n",
       "      <th></th>\n",
       "      <th>year</th>\n",
       "      <th>state</th>\n",
       "      <th>pop</th>\n",
       "      <th>debt</th>\n",
       "    </tr>\n",
       "  </thead>\n",
       "  <tbody>\n",
       "    <tr>\n",
       "      <th>one</th>\n",
       "      <td>2000</td>\n",
       "      <td>Ohio</td>\n",
       "      <td>1.5</td>\n",
       "      <td>0.0</td>\n",
       "    </tr>\n",
       "    <tr>\n",
       "      <th>two</th>\n",
       "      <td>2001</td>\n",
       "      <td>Ohio</td>\n",
       "      <td>1.7</td>\n",
       "      <td>1.0</td>\n",
       "    </tr>\n",
       "    <tr>\n",
       "      <th>three</th>\n",
       "      <td>2002</td>\n",
       "      <td>Ohio</td>\n",
       "      <td>3.6</td>\n",
       "      <td>2.0</td>\n",
       "    </tr>\n",
       "    <tr>\n",
       "      <th>four</th>\n",
       "      <td>2001</td>\n",
       "      <td>Nevada</td>\n",
       "      <td>2.4</td>\n",
       "      <td>3.0</td>\n",
       "    </tr>\n",
       "    <tr>\n",
       "      <th>five</th>\n",
       "      <td>2002</td>\n",
       "      <td>Nevada</td>\n",
       "      <td>2.9</td>\n",
       "      <td>4.0</td>\n",
       "    </tr>\n",
       "    <tr>\n",
       "      <th>six</th>\n",
       "      <td>2003</td>\n",
       "      <td>Nevada</td>\n",
       "      <td>3.2</td>\n",
       "      <td>5.0</td>\n",
       "    </tr>\n",
       "  </tbody>\n",
       "</table>\n",
       "</div>"
      ]
     },
     "execution_count": 410,
     "metadata": {},
     "output_type": "execute_result"
    }
   ],
   "execution_count": 410
  },
  {
   "metadata": {
    "ExecuteTime": {
     "end_time": "2024-08-07T09:04:11.527861Z",
     "start_time": "2024-08-07T09:04:11.520227Z"
    }
   },
   "cell_type": "code",
   "source": [
    "val = pd.Series([-1.2, -1.5, -1.7], index=['two', 'four', 'five'])\n",
    "frame2['debt'] = val\n",
    "frame2"
   ],
   "id": "74ef4f6f35da9a2b",
   "outputs": [
    {
     "data": {
      "text/plain": [
       "       year   state  pop  debt\n",
       "one    2000    Ohio  1.5   NaN\n",
       "two    2001    Ohio  1.7  -1.2\n",
       "three  2002    Ohio  3.6   NaN\n",
       "four   2001  Nevada  2.4  -1.5\n",
       "five   2002  Nevada  2.9  -1.7\n",
       "six    2003  Nevada  3.2   NaN"
      ],
      "text/html": [
       "<div>\n",
       "<style scoped>\n",
       "    .dataframe tbody tr th:only-of-type {\n",
       "        vertical-align: middle;\n",
       "    }\n",
       "\n",
       "    .dataframe tbody tr th {\n",
       "        vertical-align: top;\n",
       "    }\n",
       "\n",
       "    .dataframe thead th {\n",
       "        text-align: right;\n",
       "    }\n",
       "</style>\n",
       "<table border=\"1\" class=\"dataframe\">\n",
       "  <thead>\n",
       "    <tr style=\"text-align: right;\">\n",
       "      <th></th>\n",
       "      <th>year</th>\n",
       "      <th>state</th>\n",
       "      <th>pop</th>\n",
       "      <th>debt</th>\n",
       "    </tr>\n",
       "  </thead>\n",
       "  <tbody>\n",
       "    <tr>\n",
       "      <th>one</th>\n",
       "      <td>2000</td>\n",
       "      <td>Ohio</td>\n",
       "      <td>1.5</td>\n",
       "      <td>NaN</td>\n",
       "    </tr>\n",
       "    <tr>\n",
       "      <th>two</th>\n",
       "      <td>2001</td>\n",
       "      <td>Ohio</td>\n",
       "      <td>1.7</td>\n",
       "      <td>-1.2</td>\n",
       "    </tr>\n",
       "    <tr>\n",
       "      <th>three</th>\n",
       "      <td>2002</td>\n",
       "      <td>Ohio</td>\n",
       "      <td>3.6</td>\n",
       "      <td>NaN</td>\n",
       "    </tr>\n",
       "    <tr>\n",
       "      <th>four</th>\n",
       "      <td>2001</td>\n",
       "      <td>Nevada</td>\n",
       "      <td>2.4</td>\n",
       "      <td>-1.5</td>\n",
       "    </tr>\n",
       "    <tr>\n",
       "      <th>five</th>\n",
       "      <td>2002</td>\n",
       "      <td>Nevada</td>\n",
       "      <td>2.9</td>\n",
       "      <td>-1.7</td>\n",
       "    </tr>\n",
       "    <tr>\n",
       "      <th>six</th>\n",
       "      <td>2003</td>\n",
       "      <td>Nevada</td>\n",
       "      <td>3.2</td>\n",
       "      <td>NaN</td>\n",
       "    </tr>\n",
       "  </tbody>\n",
       "</table>\n",
       "</div>"
      ]
     },
     "execution_count": 411,
     "metadata": {},
     "output_type": "execute_result"
    }
   ],
   "execution_count": 411
  },
  {
   "metadata": {
    "ExecuteTime": {
     "end_time": "2024-08-07T09:04:11.592606Z",
     "start_time": "2024-08-07T09:04:11.584867Z"
    }
   },
   "cell_type": "code",
   "source": [
    "frame2['eastern']=frame2.state=='ohio'#为不存在的列赋值，首先会创建一个新的列，del可以删除\n",
    "frame2"
   ],
   "id": "73e77fac98880856",
   "outputs": [
    {
     "data": {
      "text/plain": [
       "       year   state  pop  debt  eastern\n",
       "one    2000    Ohio  1.5   NaN    False\n",
       "two    2001    Ohio  1.7  -1.2    False\n",
       "three  2002    Ohio  3.6   NaN    False\n",
       "four   2001  Nevada  2.4  -1.5    False\n",
       "five   2002  Nevada  2.9  -1.7    False\n",
       "six    2003  Nevada  3.2   NaN    False"
      ],
      "text/html": [
       "<div>\n",
       "<style scoped>\n",
       "    .dataframe tbody tr th:only-of-type {\n",
       "        vertical-align: middle;\n",
       "    }\n",
       "\n",
       "    .dataframe tbody tr th {\n",
       "        vertical-align: top;\n",
       "    }\n",
       "\n",
       "    .dataframe thead th {\n",
       "        text-align: right;\n",
       "    }\n",
       "</style>\n",
       "<table border=\"1\" class=\"dataframe\">\n",
       "  <thead>\n",
       "    <tr style=\"text-align: right;\">\n",
       "      <th></th>\n",
       "      <th>year</th>\n",
       "      <th>state</th>\n",
       "      <th>pop</th>\n",
       "      <th>debt</th>\n",
       "      <th>eastern</th>\n",
       "    </tr>\n",
       "  </thead>\n",
       "  <tbody>\n",
       "    <tr>\n",
       "      <th>one</th>\n",
       "      <td>2000</td>\n",
       "      <td>Ohio</td>\n",
       "      <td>1.5</td>\n",
       "      <td>NaN</td>\n",
       "      <td>False</td>\n",
       "    </tr>\n",
       "    <tr>\n",
       "      <th>two</th>\n",
       "      <td>2001</td>\n",
       "      <td>Ohio</td>\n",
       "      <td>1.7</td>\n",
       "      <td>-1.2</td>\n",
       "      <td>False</td>\n",
       "    </tr>\n",
       "    <tr>\n",
       "      <th>three</th>\n",
       "      <td>2002</td>\n",
       "      <td>Ohio</td>\n",
       "      <td>3.6</td>\n",
       "      <td>NaN</td>\n",
       "      <td>False</td>\n",
       "    </tr>\n",
       "    <tr>\n",
       "      <th>four</th>\n",
       "      <td>2001</td>\n",
       "      <td>Nevada</td>\n",
       "      <td>2.4</td>\n",
       "      <td>-1.5</td>\n",
       "      <td>False</td>\n",
       "    </tr>\n",
       "    <tr>\n",
       "      <th>five</th>\n",
       "      <td>2002</td>\n",
       "      <td>Nevada</td>\n",
       "      <td>2.9</td>\n",
       "      <td>-1.7</td>\n",
       "      <td>False</td>\n",
       "    </tr>\n",
       "    <tr>\n",
       "      <th>six</th>\n",
       "      <td>2003</td>\n",
       "      <td>Nevada</td>\n",
       "      <td>3.2</td>\n",
       "      <td>NaN</td>\n",
       "      <td>False</td>\n",
       "    </tr>\n",
       "  </tbody>\n",
       "</table>\n",
       "</div>"
      ]
     },
     "execution_count": 412,
     "metadata": {},
     "output_type": "execute_result"
    }
   ],
   "execution_count": 412
  },
  {
   "metadata": {
    "ExecuteTime": {
     "end_time": "2024-08-07T09:04:11.722010Z",
     "start_time": "2024-08-07T09:04:11.719078Z"
    }
   },
   "cell_type": "code",
   "source": "del frame2['eastern']",
   "id": "ca7903c946b9c855",
   "outputs": [],
   "execution_count": 413
  },
  {
   "metadata": {
    "ExecuteTime": {
     "end_time": "2024-08-07T09:04:11.768185Z",
     "start_time": "2024-08-07T09:04:11.760644Z"
    }
   },
   "cell_type": "code",
   "source": "frame2.columns  #返回的是视图 不是副本，如果对返回值修改，全部会反映到源上，可以通过copy的方法复制指定的列",
   "id": "3a60fd4c679821c4",
   "outputs": [
    {
     "data": {
      "text/plain": [
       "Index(['year', 'state', 'pop', 'debt'], dtype='object')"
      ]
     },
     "execution_count": 414,
     "metadata": {},
     "output_type": "execute_result"
    }
   ],
   "execution_count": 414
  },
  {
   "metadata": {
    "ExecuteTime": {
     "end_time": "2024-08-07T09:04:11.875167Z",
     "start_time": "2024-08-07T09:04:11.865213Z"
    }
   },
   "cell_type": "code",
   "source": [
    "#删除行drop()\n",
    "\n",
    "frame2.drop('one')"
   ],
   "id": "bdfa90d5b051934c",
   "outputs": [
    {
     "data": {
      "text/plain": [
       "       year   state  pop  debt\n",
       "two    2001    Ohio  1.7  -1.2\n",
       "three  2002    Ohio  3.6   NaN\n",
       "four   2001  Nevada  2.4  -1.5\n",
       "five   2002  Nevada  2.9  -1.7\n",
       "six    2003  Nevada  3.2   NaN"
      ],
      "text/html": [
       "<div>\n",
       "<style scoped>\n",
       "    .dataframe tbody tr th:only-of-type {\n",
       "        vertical-align: middle;\n",
       "    }\n",
       "\n",
       "    .dataframe tbody tr th {\n",
       "        vertical-align: top;\n",
       "    }\n",
       "\n",
       "    .dataframe thead th {\n",
       "        text-align: right;\n",
       "    }\n",
       "</style>\n",
       "<table border=\"1\" class=\"dataframe\">\n",
       "  <thead>\n",
       "    <tr style=\"text-align: right;\">\n",
       "      <th></th>\n",
       "      <th>year</th>\n",
       "      <th>state</th>\n",
       "      <th>pop</th>\n",
       "      <th>debt</th>\n",
       "    </tr>\n",
       "  </thead>\n",
       "  <tbody>\n",
       "    <tr>\n",
       "      <th>two</th>\n",
       "      <td>2001</td>\n",
       "      <td>Ohio</td>\n",
       "      <td>1.7</td>\n",
       "      <td>-1.2</td>\n",
       "    </tr>\n",
       "    <tr>\n",
       "      <th>three</th>\n",
       "      <td>2002</td>\n",
       "      <td>Ohio</td>\n",
       "      <td>3.6</td>\n",
       "      <td>NaN</td>\n",
       "    </tr>\n",
       "    <tr>\n",
       "      <th>four</th>\n",
       "      <td>2001</td>\n",
       "      <td>Nevada</td>\n",
       "      <td>2.4</td>\n",
       "      <td>-1.5</td>\n",
       "    </tr>\n",
       "    <tr>\n",
       "      <th>five</th>\n",
       "      <td>2002</td>\n",
       "      <td>Nevada</td>\n",
       "      <td>2.9</td>\n",
       "      <td>-1.7</td>\n",
       "    </tr>\n",
       "    <tr>\n",
       "      <th>six</th>\n",
       "      <td>2003</td>\n",
       "      <td>Nevada</td>\n",
       "      <td>3.2</td>\n",
       "      <td>NaN</td>\n",
       "    </tr>\n",
       "  </tbody>\n",
       "</table>\n",
       "</div>"
      ]
     },
     "execution_count": 415,
     "metadata": {},
     "output_type": "execute_result"
    }
   ],
   "execution_count": 415
  },
  {
   "metadata": {
    "ExecuteTime": {
     "end_time": "2024-08-07T09:04:11.906498Z",
     "start_time": "2024-08-07T09:04:11.903184Z"
    }
   },
   "cell_type": "code",
   "source": [
    "#另一种常⻅的数据形式是嵌套字典：\n",
    "pop={'Nevada':{2001:2.4,2002:2.5,2003:2.6,2004:2.7,2005:2.8},'ohio':{2001:2.9,2002:3.0,2003:3.1,2004:3.2,2005:3.3}}#外层的字典是列，内存的字典是行索引\n",
    "frame3=pd.DataFrame(pop)   "
   ],
   "id": "d374280bb89e2c77",
   "outputs": [],
   "execution_count": 416
  },
  {
   "metadata": {
    "ExecuteTime": {
     "end_time": "2024-08-07T09:04:11.975727Z",
     "start_time": "2024-08-07T09:04:11.970386Z"
    }
   },
   "cell_type": "code",
   "source": "frame3",
   "id": "c4c2aaacbffaa2da",
   "outputs": [
    {
     "data": {
      "text/plain": [
       "      Nevada  ohio\n",
       "2001     2.4   2.9\n",
       "2002     2.5   3.0\n",
       "2003     2.6   3.1\n",
       "2004     2.7   3.2\n",
       "2005     2.8   3.3"
      ],
      "text/html": [
       "<div>\n",
       "<style scoped>\n",
       "    .dataframe tbody tr th:only-of-type {\n",
       "        vertical-align: middle;\n",
       "    }\n",
       "\n",
       "    .dataframe tbody tr th {\n",
       "        vertical-align: top;\n",
       "    }\n",
       "\n",
       "    .dataframe thead th {\n",
       "        text-align: right;\n",
       "    }\n",
       "</style>\n",
       "<table border=\"1\" class=\"dataframe\">\n",
       "  <thead>\n",
       "    <tr style=\"text-align: right;\">\n",
       "      <th></th>\n",
       "      <th>Nevada</th>\n",
       "      <th>ohio</th>\n",
       "    </tr>\n",
       "  </thead>\n",
       "  <tbody>\n",
       "    <tr>\n",
       "      <th>2001</th>\n",
       "      <td>2.4</td>\n",
       "      <td>2.9</td>\n",
       "    </tr>\n",
       "    <tr>\n",
       "      <th>2002</th>\n",
       "      <td>2.5</td>\n",
       "      <td>3.0</td>\n",
       "    </tr>\n",
       "    <tr>\n",
       "      <th>2003</th>\n",
       "      <td>2.6</td>\n",
       "      <td>3.1</td>\n",
       "    </tr>\n",
       "    <tr>\n",
       "      <th>2004</th>\n",
       "      <td>2.7</td>\n",
       "      <td>3.2</td>\n",
       "    </tr>\n",
       "    <tr>\n",
       "      <th>2005</th>\n",
       "      <td>2.8</td>\n",
       "      <td>3.3</td>\n",
       "    </tr>\n",
       "  </tbody>\n",
       "</table>\n",
       "</div>"
      ]
     },
     "execution_count": 417,
     "metadata": {},
     "output_type": "execute_result"
    }
   ],
   "execution_count": 417
  },
  {
   "metadata": {
    "ExecuteTime": {
     "end_time": "2024-08-07T09:16:19.555332Z",
     "start_time": "2024-08-07T09:16:19.545582Z"
    }
   },
   "cell_type": "code",
   "source": [
    "#用NumPy方法,对DataFrame进行转置\n",
    "frame3.T#转置后内层的键会被合并，排序成最终索引，这个索引是不确定的，如果在一开始创建的时候明确指定就不会  pd.Dateframe(pop,index[2001,2002,2003])   #pop在这是人口"
   ],
   "id": "da508fa7fe54602",
   "outputs": [
    {
     "data": {
      "text/plain": [
       "        2001  2002  2003  2004  2005\n",
       "Nevada   2.4   2.5   2.6   2.7   2.8\n",
       "ohio     2.9   3.0   3.1   3.2   3.3"
      ],
      "text/html": [
       "<div>\n",
       "<style scoped>\n",
       "    .dataframe tbody tr th:only-of-type {\n",
       "        vertical-align: middle;\n",
       "    }\n",
       "\n",
       "    .dataframe tbody tr th {\n",
       "        vertical-align: top;\n",
       "    }\n",
       "\n",
       "    .dataframe thead th {\n",
       "        text-align: right;\n",
       "    }\n",
       "</style>\n",
       "<table border=\"1\" class=\"dataframe\">\n",
       "  <thead>\n",
       "    <tr style=\"text-align: right;\">\n",
       "      <th></th>\n",
       "      <th>2001</th>\n",
       "      <th>2002</th>\n",
       "      <th>2003</th>\n",
       "      <th>2004</th>\n",
       "      <th>2005</th>\n",
       "    </tr>\n",
       "  </thead>\n",
       "  <tbody>\n",
       "    <tr>\n",
       "      <th>Nevada</th>\n",
       "      <td>2.4</td>\n",
       "      <td>2.5</td>\n",
       "      <td>2.6</td>\n",
       "      <td>2.7</td>\n",
       "      <td>2.8</td>\n",
       "    </tr>\n",
       "    <tr>\n",
       "      <th>ohio</th>\n",
       "      <td>2.9</td>\n",
       "      <td>3.0</td>\n",
       "      <td>3.1</td>\n",
       "      <td>3.2</td>\n",
       "      <td>3.3</td>\n",
       "    </tr>\n",
       "  </tbody>\n",
       "</table>\n",
       "</div>"
      ]
     },
     "execution_count": 419,
     "metadata": {},
     "output_type": "execute_result"
    }
   ],
   "execution_count": 419
  },
  {
   "metadata": {
    "ExecuteTime": {
     "end_time": "2024-08-07T09:18:59.779700Z",
     "start_time": "2024-08-07T09:18:59.772307Z"
    }
   },
   "cell_type": "code",
   "source": [
    "#由serise组成字典 \n",
    "pdata={'ohio':frame3['ohio'][:-1],'Nevada':frame3['Nevada'][:2]}#[:-1]表示提取所有行 除了最后一行  [:2]表示提取前两行\n",
    "pd.DataFrame(pdata)\n"
   ],
   "id": "f7c3e0be2b8df722",
   "outputs": [
    {
     "data": {
      "text/plain": [
       "      ohio  Nevada\n",
       "2001   2.9     2.4\n",
       "2002   3.0     2.5\n",
       "2003   3.1     NaN\n",
       "2004   3.2     NaN"
      ],
      "text/html": [
       "<div>\n",
       "<style scoped>\n",
       "    .dataframe tbody tr th:only-of-type {\n",
       "        vertical-align: middle;\n",
       "    }\n",
       "\n",
       "    .dataframe tbody tr th {\n",
       "        vertical-align: top;\n",
       "    }\n",
       "\n",
       "    .dataframe thead th {\n",
       "        text-align: right;\n",
       "    }\n",
       "</style>\n",
       "<table border=\"1\" class=\"dataframe\">\n",
       "  <thead>\n",
       "    <tr style=\"text-align: right;\">\n",
       "      <th></th>\n",
       "      <th>ohio</th>\n",
       "      <th>Nevada</th>\n",
       "    </tr>\n",
       "  </thead>\n",
       "  <tbody>\n",
       "    <tr>\n",
       "      <th>2001</th>\n",
       "      <td>2.9</td>\n",
       "      <td>2.4</td>\n",
       "    </tr>\n",
       "    <tr>\n",
       "      <th>2002</th>\n",
       "      <td>3.0</td>\n",
       "      <td>2.5</td>\n",
       "    </tr>\n",
       "    <tr>\n",
       "      <th>2003</th>\n",
       "      <td>3.1</td>\n",
       "      <td>NaN</td>\n",
       "    </tr>\n",
       "    <tr>\n",
       "      <th>2004</th>\n",
       "      <td>3.2</td>\n",
       "      <td>NaN</td>\n",
       "    </tr>\n",
       "  </tbody>\n",
       "</table>\n",
       "</div>"
      ]
     },
     "execution_count": 420,
     "metadata": {},
     "output_type": "execute_result"
    }
   ],
   "execution_count": 420
  },
  {
   "metadata": {
    "ExecuteTime": {
     "end_time": "2024-08-07T09:25:03.630862Z",
     "start_time": "2024-08-07T09:25:03.622889Z"
    }
   },
   "cell_type": "code",
   "source": [
    "#设置了DataFrame的index和columns的name属性\n",
    "frame3.index.name='year';frame3.columns.name='state'\n",
    "frame3"
   ],
   "id": "edf7802c3f46475a",
   "outputs": [
    {
     "data": {
      "text/plain": [
       "state  Nevada  ohio\n",
       "year               \n",
       "2001      2.4   2.9\n",
       "2002      2.5   3.0\n",
       "2003      2.6   3.1\n",
       "2004      2.7   3.2\n",
       "2005      2.8   3.3"
      ],
      "text/html": [
       "<div>\n",
       "<style scoped>\n",
       "    .dataframe tbody tr th:only-of-type {\n",
       "        vertical-align: middle;\n",
       "    }\n",
       "\n",
       "    .dataframe tbody tr th {\n",
       "        vertical-align: top;\n",
       "    }\n",
       "\n",
       "    .dataframe thead th {\n",
       "        text-align: right;\n",
       "    }\n",
       "</style>\n",
       "<table border=\"1\" class=\"dataframe\">\n",
       "  <thead>\n",
       "    <tr style=\"text-align: right;\">\n",
       "      <th>state</th>\n",
       "      <th>Nevada</th>\n",
       "      <th>ohio</th>\n",
       "    </tr>\n",
       "    <tr>\n",
       "      <th>year</th>\n",
       "      <th></th>\n",
       "      <th></th>\n",
       "    </tr>\n",
       "  </thead>\n",
       "  <tbody>\n",
       "    <tr>\n",
       "      <th>2001</th>\n",
       "      <td>2.4</td>\n",
       "      <td>2.9</td>\n",
       "    </tr>\n",
       "    <tr>\n",
       "      <th>2002</th>\n",
       "      <td>2.5</td>\n",
       "      <td>3.0</td>\n",
       "    </tr>\n",
       "    <tr>\n",
       "      <th>2003</th>\n",
       "      <td>2.6</td>\n",
       "      <td>3.1</td>\n",
       "    </tr>\n",
       "    <tr>\n",
       "      <th>2004</th>\n",
       "      <td>2.7</td>\n",
       "      <td>3.2</td>\n",
       "    </tr>\n",
       "    <tr>\n",
       "      <th>2005</th>\n",
       "      <td>2.8</td>\n",
       "      <td>3.3</td>\n",
       "    </tr>\n",
       "  </tbody>\n",
       "</table>\n",
       "</div>"
      ]
     },
     "execution_count": 423,
     "metadata": {},
     "output_type": "execute_result"
    }
   ],
   "execution_count": 423
  },
  {
   "metadata": {
    "ExecuteTime": {
     "end_time": "2024-08-07T09:26:05.439682Z",
     "start_time": "2024-08-07T09:26:05.432940Z"
    }
   },
   "cell_type": "code",
   "source": [
    "#跟Series一样，values属性也会以二维ndarray的形式返回DataFrame中的数据\n",
    "frame3.values   #这是各列数据类型相同的情况"
   ],
   "id": "f92d17f9205e0977",
   "outputs": [
    {
     "data": {
      "text/plain": [
       "array([[2.4, 2.9],\n",
       "       [2.5, 3. ],\n",
       "       [2.6, 3.1],\n",
       "       [2.7, 3.2],\n",
       "       [2.8, 3.3]])"
      ]
     },
     "execution_count": 424,
     "metadata": {},
     "output_type": "execute_result"
    }
   ],
   "execution_count": 424
  },
  {
   "metadata": {
    "ExecuteTime": {
     "end_time": "2024-08-07T09:40:13.916911Z",
     "start_time": "2024-08-07T09:40:13.207752Z"
    }
   },
   "cell_type": "code",
   "source": [
    "#如果数据类型不同 ，也能兼容\n",
    "frame2.values\n"
   ],
   "id": "f520caa61d19d83a",
   "outputs": [
    {
     "ename": "NameError",
     "evalue": "name 'frame2' is not defined",
     "output_type": "error",
     "traceback": [
      "\u001B[1;31m---------------------------------------------------------------------------\u001B[0m",
      "\u001B[1;31mNameError\u001B[0m                                 Traceback (most recent call last)",
      "Cell \u001B[1;32mIn[1], line 2\u001B[0m\n\u001B[0;32m      1\u001B[0m \u001B[38;5;66;03m#如果数据类型不同 ，也能兼容\u001B[39;00m\n\u001B[1;32m----> 2\u001B[0m frame2\u001B[38;5;241m.\u001B[39mvalues\n",
      "\u001B[1;31mNameError\u001B[0m: name 'frame2' is not defined"
     ]
    }
   ],
   "execution_count": 1
  },
  {
   "metadata": {},
   "cell_type": "markdown",
   "source": [
    "类型: 二维ndarray  \n",
    "说明: 数据矩阵，还可以传入行标和列�  \n",
    "\n",
    "类型: 列表或元组组成的字典  \n",
    "说明: 每个序列会变成DataFrame的一列。所有序列的长度必须相同  \n",
    "\n",
    "类型: NumPy的结构化/记录数组  \n",
    "说明: 类似于“由数组组成的字典”  \n",
    "\n",
    "类型: 由Series组成的字典  \n",
    "说明: 每个Series会成为一列。如果没有显式指定索引，则各Series的索引会被合并成结果的行索引  \n",
    "\n",
    "类型: 由字典组成的字典  \n",
    "说明: 各内层字典会成为一列。键会被合并成结果的行索引。即“由Series组成的字典”情形一样  \n",
    "\n",
    "类型: 字典或Series的列表  \n",
    "说明: 各项将会成为DataFrame的一行，字典键或Series索引的并集将会成为DataFrame的列标  \n",
    "\n",
    "类型: 列表或元组组成的列表  \n",
    "说明: 类似于“二维ndarray”  \n",
    "\n",
    "类型: 另一个DataFrame  \n",
    "说明: 该DataFrame的索引将会被沿用，除非显式指定了其他索引  \n",
    "\n",
    "类型: NumPy的MaskedArray  \n",
    "说明: 类似于“二维ndarray”的情况，只是掩码值在结果DataFrame会变成NA/缺失值  \n"
   ],
   "id": "eb7253b26423ab8c"
  },
  {
   "metadata": {},
   "cell_type": "code",
   "outputs": [],
   "execution_count": null,
   "source": "#索引对象",
   "id": "bd6706dc43c0f196"
  }
 ],
 "metadata": {
  "kernelspec": {
   "display_name": "Python 3",
   "language": "python",
   "name": "python3"
  },
  "language_info": {
   "codemirror_mode": {
    "name": "ipython",
    "version": 2
   },
   "file_extension": ".py",
   "mimetype": "text/x-python",
   "name": "python",
   "nbconvert_exporter": "python",
   "pygments_lexer": "ipython2",
   "version": "2.7.6"
  }
 },
 "nbformat": 4,
 "nbformat_minor": 5
}
