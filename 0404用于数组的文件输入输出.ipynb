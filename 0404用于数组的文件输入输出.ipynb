{
 "cells": [
  {
   "metadata": {},
   "cell_type": "markdown",
   "source": [
    "两个主要的函数\n",
    "np.save()\n",
    "和np.load()"
   ],
   "id": "87d7dbaa9481dc1f"
  },
  {
   "metadata": {
    "ExecuteTime": {
     "end_time": "2024-08-04T10:24:13.368662Z",
     "start_time": "2024-08-04T10:24:13.164862Z"
    }
   },
   "cell_type": "code",
   "source": [
    "import numpy as np\n",
    "\n",
    "arr=np.arange(10)\n",
    "np.save('some_array',arr)#没拓展名自动会加 "
   ],
   "id": "5344de2766b0265f",
   "outputs": [],
   "execution_count": 1
  },
  {
   "metadata": {
    "ExecuteTime": {
     "end_time": "2024-08-04T10:28:23.594721Z",
     "start_time": "2024-08-04T10:28:23.589813Z"
    }
   },
   "cell_type": "code",
   "source": "np.load('some_array.npy')\n",
   "id": "4121744b8c58adf9",
   "outputs": [
    {
     "data": {
      "text/plain": [
       "array([0, 1, 2, 3, 4, 5, 6, 7, 8, 9])"
      ]
     },
     "execution_count": 5,
     "metadata": {},
     "output_type": "execute_result"
    }
   ],
   "execution_count": 5
  },
  {
   "metadata": {
    "ExecuteTime": {
     "end_time": "2024-08-04T10:31:50.791652Z",
     "start_time": "2024-08-04T10:31:50.781867Z"
    }
   },
   "cell_type": "code",
   "source": [
    "#np.savez  可以将多个数组保存到一个未压缩文件中，以关键字形式传入进去\n",
    "np.savez('array_archive.npz',a=arr,b=arr)\n",
    "#得到类似字典的对象  加载的时候\n",
    "arch=np.load('array_archive.npz')\n"
   ],
   "id": "8c071b4a8c2dff25",
   "outputs": [],
   "execution_count": 6
  },
  {
   "metadata": {
    "ExecuteTime": {
     "end_time": "2024-08-04T10:31:58.760466Z",
     "start_time": "2024-08-04T10:31:58.755284Z"
    }
   },
   "cell_type": "code",
   "source": "arch['b']",
   "id": "eeef92cab19bc426",
   "outputs": [
    {
     "data": {
      "text/plain": [
       "array([0, 1, 2, 3, 4, 5, 6, 7, 8, 9])"
      ]
     },
     "execution_count": 7,
     "metadata": {},
     "output_type": "execute_result"
    }
   ],
   "execution_count": 7
  },
  {
   "metadata": {},
   "cell_type": "markdown",
   "source": "numpy.savez_compressed。numpy.savez_compressed 本身就是一个用于压缩和保存 NumPy 数组的函数。你只需要直接使用这个函数，它会自动对数据进行压缩并保存为 .npz 文件。",
   "id": "71364d8cf5beaf6d"
  },
  {
   "metadata": {
    "ExecuteTime": {
     "end_time": "2024-08-04T10:40:37.892464Z",
     "start_time": "2024-08-04T10:40:37.886305Z"
    }
   },
   "cell_type": "code",
   "source": [
    "np.savez_compressed('arraycompressed.npz',a=arr,b=arr)\n",
    "arc=np.load('arraycompressed.npz')\n",
    "arc['b']"
   ],
   "id": "d6afc85405d3a752",
   "outputs": [
    {
     "data": {
      "text/plain": [
       "array([0, 1, 2, 3, 4, 5, 6, 7, 8, 9])"
      ]
     },
     "execution_count": 14,
     "metadata": {},
     "output_type": "execute_result"
    }
   ],
   "execution_count": 14
  },
  {
   "metadata": {},
   "cell_type": "code",
   "outputs": [],
   "execution_count": null,
   "source": "\n",
   "id": "6ad101cf18fa0f6"
  }
 ],
 "metadata": {
  "kernelspec": {
   "display_name": "Python 3",
   "language": "python",
   "name": "python3"
  },
  "language_info": {
   "codemirror_mode": {
    "name": "ipython",
    "version": 2
   },
   "file_extension": ".py",
   "mimetype": "text/x-python",
   "name": "python",
   "nbconvert_exporter": "python",
   "pygments_lexer": "ipython2",
   "version": "2.7.6"
  }
 },
 "nbformat": 4,
 "nbformat_minor": 5
}
