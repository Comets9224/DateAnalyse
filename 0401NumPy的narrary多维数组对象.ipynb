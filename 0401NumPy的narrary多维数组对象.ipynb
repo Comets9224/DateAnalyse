{
 "cells": [
  {
   "cell_type": "code",
   "id": "initial_id",
   "metadata": {
    "collapsed": true,
    "ExecuteTime": {
     "end_time": "2024-08-08T00:57:30.444916Z",
     "start_time": "2024-08-08T00:57:30.140396Z"
    }
   },
   "source": [
    "import numpy as np\n",
    "data=np.random.randn(2,3)#creat random data\n",
    "print(data)\n",
    "data*10\n",
    "print(data)\n",
    "data+=data\n",
    "print(data)"
   ],
   "outputs": [
    {
     "name": "stdout",
     "output_type": "stream",
     "text": [
      "[[-1.35023934  0.51345515 -0.91654652]\n",
      " [ 0.99676861 -1.7391544  -0.13385248]]\n",
      "[[-1.35023934  0.51345515 -0.91654652]\n",
      " [ 0.99676861 -1.7391544  -0.13385248]]\n",
      "[[-2.70047868  1.0269103  -1.83309305]\n",
      " [ 1.99353722 -3.4783088  -0.26770497]]\n"
     ]
    }
   ],
   "execution_count": 1
  },
  {
   "metadata": {
    "ExecuteTime": {
     "end_time": "2024-08-08T00:57:30.451031Z",
     "start_time": "2024-08-08T00:57:30.445921Z"
    }
   },
   "cell_type": "code",
   "source": [
    "#创建数组   数据是同一类型的\n",
    "data1=[6,7,8,0,1]\n",
    "arr1=np.array(data1)   #in creation ，able self define dtype=np.float64   ,show 64bit=8bite\n",
    "print(arr1)"
   ],
   "id": "812fde9d38d024e",
   "outputs": [
    {
     "name": "stdout",
     "output_type": "stream",
     "text": [
      "[6 7 8 0 1]\n"
     ]
    }
   ],
   "execution_count": 2
  },
  {
   "metadata": {
    "ExecuteTime": {
     "end_time": "2024-08-08T00:57:30.456746Z",
     "start_time": "2024-08-08T00:57:30.451031Z"
    }
   },
   "cell_type": "code",
   "source": [
    "data2=[[1,2,3,4],[5,5,6,7]]  \n",
    "#数据结构一致，长度也要一致\n",
    "arr2=np.array(data2)\n",
    "print(arr2)\n",
    "print(arr2.shape)  #内部数据的尺度 2*4的一个数组，当两行4列吧\n",
    "print(arr2.dtype)   #auto give type\n",
    "print(arr2.ndim)    #two lines\n"
   ],
   "id": "679f0c0f7ea68e19",
   "outputs": [
    {
     "name": "stdout",
     "output_type": "stream",
     "text": [
      "[[1 2 3 4]\n",
      " [5 5 6 7]]\n",
      "(2, 4)\n",
      "int32\n",
      "2\n"
     ]
    }
   ],
   "execution_count": 3
  },
  {
   "metadata": {
    "ExecuteTime": {
     "end_time": "2024-08-08T01:06:49.196953Z",
     "start_time": "2024-08-08T01:06:49.191628Z"
    }
   },
   "cell_type": "code",
   "source": [
    "arr3=np.zeros(10)\n",
    "print(arr3)  #creat all 0\n",
    "arr4=np.empty((2,3,2)) #return value not all 0 but grabage   multi dimention \n",
    "print(arr4)"
   ],
   "id": "92799b8e1a48511f",
   "outputs": [
    {
     "name": "stdout",
     "output_type": "stream",
     "text": [
      "[0. 0. 0. 0. 0. 0. 0. 0. 0. 0.]\n",
      "[[[6.23042070e-307 4.67296746e-307]\n",
      "  [1.69121096e-306 1.33508760e-307]\n",
      "  [1.89146896e-307 7.56571288e-307]]\n",
      "\n",
      " [[3.11525958e-307 1.24610723e-306]\n",
      "  [1.29061142e-306 1.33514617e-307]\n",
      "  [1.06806669e-306 8.45603441e-307]]]\n"
     ]
    }
   ],
   "execution_count": 58
  },
  {
   "metadata": {
    "ExecuteTime": {
     "end_time": "2024-08-08T01:07:12.764543Z",
     "start_time": "2024-08-08T01:07:12.759571Z"
    }
   },
   "cell_type": "code",
   "source": "",
   "id": "857a34c4874e2cae",
   "outputs": [
    {
     "data": {
      "text/plain": [
       "array([[[0., 0.],\n",
       "        [0., 0.],\n",
       "        [0., 0.]],\n",
       "\n",
       "       [[0., 0.],\n",
       "        [0., 0.],\n",
       "        [0., 0.]]])"
      ]
     },
     "execution_count": 59,
     "metadata": {},
     "output_type": "execute_result"
    }
   ],
   "execution_count": 59
  },
  {
   "metadata": {},
   "cell_type": "markdown",
   "source": "",
   "id": "9920f30bd42933f6"
  },
  {
   "metadata": {
    "ExecuteTime": {
     "end_time": "2024-08-08T00:57:30.469483Z",
     "start_time": "2024-08-08T00:57:30.464470Z"
    }
   },
   "cell_type": "code",
   "source": [
    "list1=np.arange(10) #相同于内部的range函数\n",
    "print(list1)\n"
   ],
   "id": "da761baaff113d97",
   "outputs": [
    {
     "name": "stdout",
     "output_type": "stream",
     "text": [
      "[0 1 2 3 4 5 6 7 8 9]\n"
     ]
    }
   ],
   "execution_count": 5
  },
  {
   "metadata": {
    "ExecuteTime": {
     "end_time": "2024-08-08T00:57:30.475094Z",
     "start_time": "2024-08-08T00:57:30.470489Z"
    }
   },
   "cell_type": "code",
   "source": [
    "arr5=np.array(list1,dtype=np.int64)  #able define in your selfves\n",
    "print(arr5.dtype)\n",
    "print(arr5)"
   ],
   "id": "7d8d00f501de3ece",
   "outputs": [
    {
     "name": "stdout",
     "output_type": "stream",
     "text": [
      "int64\n",
      "[0 1 2 3 4 5 6 7 8 9]\n"
     ]
    }
   ],
   "execution_count": 6
  },
  {
   "metadata": {
    "ExecuteTime": {
     "end_time": "2024-08-08T00:57:30.483470Z",
     "start_time": "2024-08-08T00:57:30.476102Z"
    }
   },
   "cell_type": "code",
   "source": [
    "arr=np.array([3.7,-1.2,-2.6,0.5,12.9])\n",
    "arr\n",
    "arr.astype(np.int32)  #enforce cutdown after point part"
   ],
   "id": "3fdb5d34411d135a",
   "outputs": [
    {
     "data": {
      "text/plain": [
       "array([ 3, -1, -2,  0, 12])"
      ]
     },
     "execution_count": 7,
     "metadata": {},
     "output_type": "execute_result"
    }
   ],
   "execution_count": 7
  },
  {
   "metadata": {
    "ExecuteTime": {
     "end_time": "2024-08-08T00:57:30.490835Z",
     "start_time": "2024-08-08T00:57:30.484475Z"
    }
   },
   "cell_type": "code",
   "source": [
    "numeric_strings=np.array(['1.25','-9.6','-1.56'])\n",
    "numeric_strings.astype(float)   #float or np.float32 able allow  because Numpy  map to np.float32  \n"
   ],
   "id": "b4f5d12776a3b485",
   "outputs": [
    {
     "data": {
      "text/plain": [
       "array([ 1.25, -9.6 , -1.56])"
      ]
     },
     "execution_count": 8,
     "metadata": {},
     "output_type": "execute_result"
    }
   ],
   "execution_count": 8
  },
  {
   "metadata": {
    "ExecuteTime": {
     "end_time": "2024-08-08T00:57:30.497242Z",
     "start_time": "2024-08-08T00:57:30.491841Z"
    }
   },
   "cell_type": "code",
   "source": [
    "int_array=np.arange(10)\n",
    "calibers=np.array([.25,-9.630,.568,.588])\n",
    "int_array.astype(calibers.dtype)\n",
    "#transfer the same dtype to 'calibers'"
   ],
   "id": "6fff30298b8249b7",
   "outputs": [
    {
     "data": {
      "text/plain": [
       "array([0., 1., 2., 3., 4., 5., 6., 7., 8., 9.])"
      ]
     },
     "execution_count": 9,
     "metadata": {},
     "output_type": "execute_result"
    }
   ],
   "execution_count": 9
  },
  {
   "metadata": {
    "ExecuteTime": {
     "end_time": "2024-08-08T00:57:30.504136Z",
     "start_time": "2024-08-08T00:57:30.499249Z"
    }
   },
   "cell_type": "code",
   "source": [
    "#able use simple type like u4\n",
    "empty_uint32=np.empty(8,dtype='u4')\n",
    "empty_uint32\n"
   ],
   "id": "8e09d8f6abeedf92",
   "outputs": [
    {
     "data": {
      "text/plain": [
       "array([    0,     1,     0,   634,   380,     0,   768, 32762],\n",
       "      dtype=uint32)"
      ]
     },
     "execution_count": 10,
     "metadata": {},
     "output_type": "execute_result"
    }
   ],
   "execution_count": 10
  },
  {
   "metadata": {
    "ExecuteTime": {
     "end_time": "2024-08-08T00:57:30.510180Z",
     "start_time": "2024-08-08T00:57:30.505152Z"
    }
   },
   "cell_type": "code",
   "source": [
    "# Use astype to copy the old array to a new one\n",
    "#in bottom layer,astype do this\n",
    "#calculate array\n",
    "arr1*arr1 # Multiply elements in the same position\n",
    "arr6=np.array([[1,2,3],[4,5,6],[7,8,9]])\n",
    "arr6*arr6## Same position means the indices are exactly the same\n"
   ],
   "id": "ef667b8ce489e659",
   "outputs": [
    {
     "data": {
      "text/plain": [
       "array([[ 1,  4,  9],\n",
       "       [16, 25, 36],\n",
       "       [49, 64, 81]])"
      ]
     },
     "execution_count": 11,
     "metadata": {},
     "output_type": "execute_result"
    }
   ],
   "execution_count": 11
  },
  {
   "metadata": {
    "ExecuteTime": {
     "end_time": "2024-08-08T00:57:30.622517Z",
     "start_time": "2024-08-08T00:57:30.618185Z"
    }
   },
   "cell_type": "code",
   "source": [
    "#arr compute will work in every elements\n",
    "1/arr6\n"
   ],
   "id": "f8e086556836a072",
   "outputs": [
    {
     "data": {
      "text/plain": [
       "array([[1.        , 0.5       , 0.33333333],\n",
       "       [0.25      , 0.2       , 0.16666667],\n",
       "       [0.14285714, 0.125     , 0.11111111]])"
      ]
     },
     "execution_count": 12,
     "metadata": {},
     "output_type": "execute_result"
    }
   ],
   "execution_count": 12
  },
  {
   "metadata": {
    "ExecuteTime": {
     "end_time": "2024-08-08T00:57:30.714850Z",
     "start_time": "2024-08-08T00:57:30.709886Z"
    }
   },
   "cell_type": "code",
   "source": [
    "arr7=np.array([[0.,4.,1.],[7,2,12],[5,3,1]],dtype=np.float64)\n",
    "arr7\n",
    "# Compare arrays: when shapes are the same, will create a boolean array\n",
    "arr7>arr6\n"
   ],
   "id": "3cc5fdff9153371e",
   "outputs": [
    {
     "data": {
      "text/plain": [
       "array([[False,  True, False],\n",
       "       [ True, False,  True],\n",
       "       [False, False, False]])"
      ]
     },
     "execution_count": 13,
     "metadata": {},
     "output_type": "execute_result"
    }
   ],
   "execution_count": 13
  },
  {
   "metadata": {
    "ExecuteTime": {
     "end_time": "2024-08-08T00:57:30.814866Z",
     "start_time": "2024-08-08T00:57:30.809855Z"
    }
   },
   "cell_type": "code",
   "source": [
    "result=arr7>arr6\n",
    "result.dtype"
   ],
   "id": "f0e1c993f2cd681d",
   "outputs": [
    {
     "data": {
      "text/plain": [
       "dtype('bool')"
      ]
     },
     "execution_count": 14,
     "metadata": {},
     "output_type": "execute_result"
    }
   ],
   "execution_count": 14
  },
  {
   "metadata": {
    "ExecuteTime": {
     "end_time": "2024-08-08T00:57:30.842014Z",
     "start_time": "2024-08-08T00:57:30.836995Z"
    }
   },
   "cell_type": "code",
   "source": [
    "#Indexing an array,Slicing an array\n",
    "arr8=np.arange(10)\n",
    "arr8"
   ],
   "id": "a0d1e19a3835a611",
   "outputs": [
    {
     "data": {
      "text/plain": [
       "array([0, 1, 2, 3, 4, 5, 6, 7, 8, 9])"
      ]
     },
     "execution_count": 15,
     "metadata": {},
     "output_type": "execute_result"
    }
   ],
   "execution_count": 15
  },
  {
   "metadata": {
    "ExecuteTime": {
     "end_time": "2024-08-08T00:57:30.864613Z",
     "start_time": "2024-08-08T00:57:30.855874Z"
    }
   },
   "cell_type": "code",
   "source": "arr8[5]  #indexing ",
   "id": "268c5682745b98c8",
   "outputs": [
    {
     "data": {
      "text/plain": [
       "5"
      ]
     },
     "execution_count": 16,
     "metadata": {},
     "output_type": "execute_result"
    }
   ],
   "execution_count": 16
  },
  {
   "metadata": {
    "ExecuteTime": {
     "end_time": "2024-08-08T00:57:30.905336Z",
     "start_time": "2024-08-08T00:57:30.899758Z"
    }
   },
   "cell_type": "code",
   "source": "arr8[5:8]",
   "id": "1c29bd0a5736c4b1",
   "outputs": [
    {
     "data": {
      "text/plain": [
       "array([5, 6, 7])"
      ]
     },
     "execution_count": 17,
     "metadata": {},
     "output_type": "execute_result"
    }
   ],
   "execution_count": 17
  },
  {
   "metadata": {
    "ExecuteTime": {
     "end_time": "2024-08-08T00:57:30.953849Z",
     "start_time": "2024-08-08T00:57:30.946874Z"
    }
   },
   "cell_type": "code",
   "source": [
    "arr8[5:8]=12#不同于列表 列表切片是放到一个新列表,数组切片是对原数组的切片 所有值都修改\n",
    "arr8"
   ],
   "id": "68b5fb33da913b39",
   "outputs": [
    {
     "data": {
      "text/plain": [
       "array([ 0,  1,  2,  3,  4, 12, 12, 12,  8,  9])"
      ]
     },
     "execution_count": 18,
     "metadata": {},
     "output_type": "execute_result"
    }
   ],
   "execution_count": 18
  },
  {
   "metadata": {},
   "cell_type": "markdown",
   "source": "",
   "id": "62b8a6869ea0b443"
  },
  {
   "metadata": {
    "ExecuteTime": {
     "end_time": "2024-08-08T00:57:30.988055Z",
     "start_time": "2024-08-08T00:57:30.982635Z"
    }
   },
   "cell_type": "code",
   "source": [
    "arr_slice=arr8[5:9]\n",
    "arr_slice"
   ],
   "id": "908e7d236853bb76",
   "outputs": [
    {
     "data": {
      "text/plain": [
       "array([12, 12, 12,  8])"
      ]
     },
     "execution_count": 19,
     "metadata": {},
     "output_type": "execute_result"
    }
   ],
   "execution_count": 19
  },
  {
   "metadata": {
    "ExecuteTime": {
     "end_time": "2024-08-08T00:57:31.055959Z",
     "start_time": "2024-08-08T00:57:31.048327Z"
    }
   },
   "cell_type": "code",
   "source": "arr8",
   "id": "bac58e3782fb948f",
   "outputs": [
    {
     "data": {
      "text/plain": [
       "array([ 0,  1,  2,  3,  4, 12, 12, 12,  8,  9])"
      ]
     },
     "execution_count": 20,
     "metadata": {},
     "output_type": "execute_result"
    }
   ],
   "execution_count": 20
  },
  {
   "metadata": {
    "ExecuteTime": {
     "end_time": "2024-08-08T00:57:31.073204Z",
     "start_time": "2024-08-08T00:57:31.067939Z"
    }
   },
   "cell_type": "code",
   "source": [
    "arr_slice[1]=12345\n",
    "arr8   ## Changes will be reflected in the original\n",
    "\n",
    "arr_slice[:]=64#will assign all arr\n",
    "arr_slice"
   ],
   "id": "acb6e95eaf3b81a0",
   "outputs": [
    {
     "data": {
      "text/plain": [
       "array([64, 64, 64, 64])"
      ]
     },
     "execution_count": 21,
     "metadata": {},
     "output_type": "execute_result"
    }
   ],
   "execution_count": 21
  },
  {
   "metadata": {
    "ExecuteTime": {
     "end_time": "2024-08-08T00:57:31.108717Z",
     "start_time": "2024-08-08T00:57:31.103314Z"
    }
   },
   "cell_type": "code",
   "source": "arr8",
   "id": "99665403ad4bd75d",
   "outputs": [
    {
     "data": {
      "text/plain": [
       "array([ 0,  1,  2,  3,  4, 64, 64, 64, 64,  9])"
      ]
     },
     "execution_count": 22,
     "metadata": {},
     "output_type": "execute_result"
    }
   ],
   "execution_count": 22
  },
  {
   "metadata": {
    "ExecuteTime": {
     "end_time": "2024-08-08T00:57:31.185870Z",
     "start_time": "2024-08-08T00:57:31.179951Z"
    }
   },
   "cell_type": "code",
   "source": [
    "arr2d=np.array([[1,2,3],[4,5,6],[7,8,9]])\n",
    "arr2d[2]"
   ],
   "id": "18111cd1b6295fa1",
   "outputs": [
    {
     "data": {
      "text/plain": [
       "array([7, 8, 9])"
      ]
     },
     "execution_count": 23,
     "metadata": {},
     "output_type": "execute_result"
    }
   ],
   "execution_count": 23
  },
  {
   "metadata": {
    "ExecuteTime": {
     "end_time": "2024-08-08T00:57:31.231398Z",
     "start_time": "2024-08-08T00:57:31.225224Z"
    }
   },
   "cell_type": "code",
   "source": [
    "#two ways can get the elements in 2D array\n",
    "#arr2d[0][2]  or arr2d[0,2]\n",
    "arr2d[2,2]"
   ],
   "id": "7b4f111ab5335765",
   "outputs": [
    {
     "data": {
      "text/plain": [
       "9"
      ]
     },
     "execution_count": 24,
     "metadata": {},
     "output_type": "execute_result"
    }
   ],
   "execution_count": 24
  },
  {
   "metadata": {
    "ExecuteTime": {
     "end_time": "2024-08-08T00:57:31.298367Z",
     "start_time": "2024-08-08T00:57:31.292279Z"
    }
   },
   "cell_type": "code",
   "source": [
    "arr3d=np.array([[[1,2,3],[4,5,6]],[[7,8,9],[10,11,12]]])\n",
    "arr3d"
   ],
   "id": "8b3c6fa67438d4b7",
   "outputs": [
    {
     "data": {
      "text/plain": [
       "array([[[ 1,  2,  3],\n",
       "        [ 4,  5,  6]],\n",
       "\n",
       "       [[ 7,  8,  9],\n",
       "        [10, 11, 12]]])"
      ]
     },
     "execution_count": 25,
     "metadata": {},
     "output_type": "execute_result"
    }
   ],
   "execution_count": 25
  },
  {
   "metadata": {
    "ExecuteTime": {
     "end_time": "2024-08-08T00:57:31.307187Z",
     "start_time": "2024-08-08T00:57:31.300638Z"
    }
   },
   "cell_type": "code",
   "source": "arr3d[0]",
   "id": "6b324f17c821b954",
   "outputs": [
    {
     "data": {
      "text/plain": [
       "array([[1, 2, 3],\n",
       "       [4, 5, 6]])"
      ]
     },
     "execution_count": 26,
     "metadata": {},
     "output_type": "execute_result"
    }
   ],
   "execution_count": 26
  },
  {
   "metadata": {
    "ExecuteTime": {
     "end_time": "2024-08-08T00:57:31.329082Z",
     "start_time": "2024-08-08T00:57:31.323236Z"
    }
   },
   "cell_type": "code",
   "source": [
    "old_values=arr3d[0].copy()\n",
    "arr3d[0,:]#arr3d the first arr's  all element\n",
    "arr3d[0]=42\n",
    "arr3d"
   ],
   "id": "aed2c3e8eb37f5",
   "outputs": [
    {
     "data": {
      "text/plain": [
       "array([[[42, 42, 42],\n",
       "        [42, 42, 42]],\n",
       "\n",
       "       [[ 7,  8,  9],\n",
       "        [10, 11, 12]]])"
      ]
     },
     "execution_count": 27,
     "metadata": {},
     "output_type": "execute_result"
    }
   ],
   "execution_count": 27
  },
  {
   "metadata": {
    "ExecuteTime": {
     "end_time": "2024-08-08T00:57:31.372222Z",
     "start_time": "2024-08-08T00:57:31.365180Z"
    }
   },
   "cell_type": "code",
   "source": [
    "arr3d[0]=old_values\n",
    "arr3d"
   ],
   "id": "4511b6d330652b78",
   "outputs": [
    {
     "data": {
      "text/plain": [
       "array([[[ 1,  2,  3],\n",
       "        [ 4,  5,  6]],\n",
       "\n",
       "       [[ 7,  8,  9],\n",
       "        [10, 11, 12]]])"
      ]
     },
     "execution_count": 28,
     "metadata": {},
     "output_type": "execute_result"
    }
   ],
   "execution_count": 28
  },
  {
   "metadata": {},
   "cell_type": "markdown",
   "source": "返回的数组都是视图”是指在 NumPy 中，当你对一个数组进行切片或索引操作时，返回的结果是原数组的一部分视图，而不是一个新的独立数组",
   "id": "c500ff0cd14177ff"
  },
  {
   "metadata": {
    "ExecuteTime": {
     "end_time": "2024-08-08T00:57:31.454659Z",
     "start_time": "2024-08-08T00:57:31.449253Z"
    }
   },
   "cell_type": "code",
   "source": "arr2d",
   "id": "2a20813c5d2c65cb",
   "outputs": [
    {
     "data": {
      "text/plain": [
       "array([[1, 2, 3],\n",
       "       [4, 5, 6],\n",
       "       [7, 8, 9]])"
      ]
     },
     "execution_count": 29,
     "metadata": {},
     "output_type": "execute_result"
    }
   ],
   "execution_count": 29
  },
  {
   "metadata": {
    "ExecuteTime": {
     "end_time": "2024-08-08T00:57:31.529165Z",
     "start_time": "2024-08-08T00:57:31.521625Z"
    }
   },
   "cell_type": "code",
   "source": "arr2d[:2]#  行切  每个数组就是一行  比如a[0]  就是第一行，沿着行切就是第0轴  表示切到第二行 不包括第二行",
   "id": "ceba65ad3c7cef8e",
   "outputs": [
    {
     "data": {
      "text/plain": [
       "array([[1, 2, 3],\n",
       "       [4, 5, 6]])"
      ]
     },
     "execution_count": 30,
     "metadata": {},
     "output_type": "execute_result"
    }
   ],
   "execution_count": 30
  },
  {
   "metadata": {
    "ExecuteTime": {
     "end_time": "2024-08-08T00:57:31.548393Z",
     "start_time": "2024-08-08T00:57:31.539232Z"
    }
   },
   "cell_type": "code",
   "source": [
    "#可以传入多个切片，就像传多个索引\n",
    "arr2d[:2,1:]   #同理，切到第二列，不包括第二列"
   ],
   "id": "9ede7cdd6982d68a",
   "outputs": [
    {
     "data": {
      "text/plain": [
       "array([[2, 3],\n",
       "       [5, 6]])"
      ]
     },
     "execution_count": 31,
     "metadata": {},
     "output_type": "execute_result"
    }
   ],
   "execution_count": 31
  },
  {
   "metadata": {},
   "cell_type": "markdown",
   "source": "",
   "id": "9d0373e9ffa3aeb8"
  },
  {
   "metadata": {
    "ExecuteTime": {
     "end_time": "2024-08-08T00:57:31.571289Z",
     "start_time": "2024-08-08T00:57:31.566560Z"
    }
   },
   "cell_type": "code",
   "source": "arr2d[:,:2]\n",
   "id": "5e00f246eca50f8b",
   "outputs": [
    {
     "data": {
      "text/plain": [
       "array([[1, 2],\n",
       "       [4, 5],\n",
       "       [7, 8]])"
      ]
     },
     "execution_count": 32,
     "metadata": {},
     "output_type": "execute_result"
    }
   ],
   "execution_count": 32
  },
  {
   "metadata": {
    "ExecuteTime": {
     "end_time": "2024-08-08T00:57:31.613982Z",
     "start_time": "2024-08-08T00:57:31.608295Z"
    }
   },
   "cell_type": "code",
   "source": "arr2d[1,:2]",
   "id": "de10b8f85390e363",
   "outputs": [
    {
     "data": {
      "text/plain": [
       "array([4, 5])"
      ]
     },
     "execution_count": 33,
     "metadata": {},
     "output_type": "execute_result"
    }
   ],
   "execution_count": 33
  },
  {
   "metadata": {
    "ExecuteTime": {
     "end_time": "2024-08-08T00:57:31.665543Z",
     "start_time": "2024-08-08T00:57:31.661494Z"
    }
   },
   "cell_type": "code",
   "source": "arr2d[:2,2]#左行/右列",
   "id": "46e16acaa1d0ddd",
   "outputs": [
    {
     "data": {
      "text/plain": [
       "array([3, 6])"
      ]
     },
     "execution_count": 34,
     "metadata": {},
     "output_type": "execute_result"
    }
   ],
   "execution_count": 34
  },
  {
   "metadata": {
    "ExecuteTime": {
     "end_time": "2024-08-08T00:57:31.716721Z",
     "start_time": "2024-08-08T00:57:31.710897Z"
    }
   },
   "cell_type": "code",
   "source": "arr2d[:,:1]#",
   "id": "4d38ef7fe5f0be77",
   "outputs": [
    {
     "data": {
      "text/plain": [
       "array([[1],\n",
       "       [4],\n",
       "       [7]])"
      ]
     },
     "execution_count": 35,
     "metadata": {},
     "output_type": "execute_result"
    }
   ],
   "execution_count": 35
  },
  {
   "metadata": {
    "ExecuteTime": {
     "end_time": "2024-08-08T00:57:31.749382Z",
     "start_time": "2024-08-08T00:57:31.743735Z"
    }
   },
   "cell_type": "code",
   "source": [
    "#布尔型索引\n",
    "names=np.array(['Bob','Joe','Will','Bob','Will','Joe','Joe'])\n",
    "data=np.random.randn(7,4)#\n",
    "names"
   ],
   "id": "a158145c800af70",
   "outputs": [
    {
     "data": {
      "text/plain": [
       "array(['Bob', 'Joe', 'Will', 'Bob', 'Will', 'Joe', 'Joe'], dtype='<U4')"
      ]
     },
     "execution_count": 36,
     "metadata": {},
     "output_type": "execute_result"
    }
   ],
   "execution_count": 36
  },
  {
   "metadata": {},
   "cell_type": "markdown",
   "source": "",
   "id": "7a516337c74564fd"
  },
  {
   "metadata": {},
   "cell_type": "markdown",
   "source": [
    "data = np.random.randn(7, 4) 这行代码使用 NumPy 生成一个形状为 \n",
    "7×4 的二维数组，其中包含从标准正态分布（均值为0，标准差为1）中生成的随机数。\n"
   ],
   "id": "1a56fa7b88d18e15"
  },
  {
   "metadata": {
    "ExecuteTime": {
     "end_time": "2024-08-08T00:57:31.871891Z",
     "start_time": "2024-08-08T00:57:31.866605Z"
    }
   },
   "cell_type": "code",
   "source": "data",
   "id": "33548501128c84eb",
   "outputs": [
    {
     "data": {
      "text/plain": [
       "array([[ 0.62707085, -1.28322932, -0.92254654, -0.01006598],\n",
       "       [ 1.40991197, -1.0224488 , -0.73919911,  1.07243445],\n",
       "       [ 0.61868373,  0.04793338,  0.18859366,  0.77221373],\n",
       "       [ 0.46480998,  0.07487675, -1.30819695,  1.14448516],\n",
       "       [ 0.55366376, -1.80880966,  0.55466938,  0.94200297],\n",
       "       [ 1.61049891, -0.11134448, -0.11806394, -0.80447537],\n",
       "       [-1.5866077 ,  1.16552513,  1.26756666,  2.21127999]])"
      ]
     },
     "execution_count": 37,
     "metadata": {},
     "output_type": "execute_result"
    }
   ],
   "execution_count": 37
  },
  {
   "metadata": {},
   "cell_type": "markdown",
   "source": [
    "想选出对应与Ace开头的所有行，对names和字符串D开头的比较运算将会产生一个布尔数组\n",
    "提到的“矢量化”是指在 NumPy 中对数组进行操作时，操作会自动应用到数组的每一个元素上，而不需要显式地编写循环。\n"
   ],
   "id": "3c992a08fa216b6e"
  },
  {
   "metadata": {
    "ExecuteTime": {
     "end_time": "2024-08-08T00:57:31.896180Z",
     "start_time": "2024-08-08T00:57:31.891896Z"
    }
   },
   "cell_type": "code",
   "source": "names=='Bob'  #会创建一个布尔类型的数组\n",
   "id": "26ba829d4f416315",
   "outputs": [
    {
     "data": {
      "text/plain": [
       "array([ True, False, False,  True, False, False, False])"
      ]
     },
     "execution_count": 38,
     "metadata": {},
     "output_type": "execute_result"
    }
   ],
   "execution_count": 38
  },
  {
   "metadata": {
    "ExecuteTime": {
     "end_time": "2024-08-08T00:57:31.918962Z",
     "start_time": "2024-08-08T00:57:31.914202Z"
    }
   },
   "cell_type": "code",
   "source": [
    "#生成的布尔类型数组能用于数组的索引  布尔型数组的长度要跟被索引的轴长度一致   (行)\n",
    "data[names=='Bob']"
   ],
   "id": "bc5667077253fe57",
   "outputs": [
    {
     "data": {
      "text/plain": [
       "array([[ 0.62707085, -1.28322932, -0.92254654, -0.01006598],\n",
       "       [ 0.46480998,  0.07487675, -1.30819695,  1.14448516]])"
      ]
     },
     "execution_count": 39,
     "metadata": {},
     "output_type": "execute_result"
    }
   ],
   "execution_count": 39
  },
  {
   "metadata": {
    "ExecuteTime": {
     "end_time": "2024-08-08T00:57:32.007185Z",
     "start_time": "2024-08-08T00:57:32.001690Z"
    }
   },
   "cell_type": "code",
   "source": "data[names=='Bob',2:]",
   "id": "40fbb4d4c548fb9f",
   "outputs": [
    {
     "data": {
      "text/plain": [
       "array([[-0.92254654, -0.01006598],\n",
       "       [-1.30819695,  1.14448516]])"
      ]
     },
     "execution_count": 40,
     "metadata": {},
     "output_type": "execute_result"
    }
   ],
   "execution_count": 40
  },
  {
   "metadata": {
    "ExecuteTime": {
     "end_time": "2024-08-08T00:57:32.036696Z",
     "start_time": "2024-08-08T00:57:32.031151Z"
    }
   },
   "cell_type": "code",
   "source": "data[names!='Bob',2:]",
   "id": "cbe79447cd449f38",
   "outputs": [
    {
     "data": {
      "text/plain": [
       "array([[-0.73919911,  1.07243445],\n",
       "       [ 0.18859366,  0.77221373],\n",
       "       [ 0.55466938,  0.94200297],\n",
       "       [-0.11806394, -0.80447537],\n",
       "       [ 1.26756666,  2.21127999]])"
      ]
     },
     "execution_count": 41,
     "metadata": {},
     "output_type": "execute_result"
    }
   ],
   "execution_count": 41
  },
  {
   "metadata": {
    "ExecuteTime": {
     "end_time": "2024-08-08T00:57:32.062284Z",
     "start_time": "2024-08-08T00:57:32.056452Z"
    }
   },
   "cell_type": "code",
   "source": "data[~(names!='Bob'),2:]",
   "id": "e2272301c3d55a7",
   "outputs": [
    {
     "data": {
      "text/plain": [
       "array([[-0.92254654, -0.01006598],\n",
       "       [-1.30819695,  1.14448516]])"
      ]
     },
     "execution_count": 42,
     "metadata": {},
     "output_type": "execute_result"
    }
   ],
   "execution_count": 42
  },
  {
   "metadata": {
    "ExecuteTime": {
     "end_time": "2024-08-08T00:57:32.104436Z",
     "start_time": "2024-08-08T00:57:32.097524Z"
    }
   },
   "cell_type": "code",
   "source": [
    "mask = (names == 'Bob') | (names == 'Will')\n",
    "data[mask]#可以用多个布尔条件运算符 不能用and 和or 而是&和|\n",
    "#通过布尔类型索引的数据，总是创建数据的副本，即使返回一模一样的原数组，也是副本，看看对副本的修改是否会影响原数组的数据"
   ],
   "id": "fe2335526e45fd7c",
   "outputs": [
    {
     "data": {
      "text/plain": [
       "array([[ 0.62707085, -1.28322932, -0.92254654, -0.01006598],\n",
       "       [ 0.61868373,  0.04793338,  0.18859366,  0.77221373],\n",
       "       [ 0.46480998,  0.07487675, -1.30819695,  1.14448516],\n",
       "       [ 0.55366376, -1.80880966,  0.55466938,  0.94200297]])"
      ]
     },
     "execution_count": 43,
     "metadata": {},
     "output_type": "execute_result"
    }
   ],
   "execution_count": 43
  },
  {
   "metadata": {},
   "cell_type": "markdown",
   "source": "",
   "id": "dbf804c6e6b0e810"
  },
  {
   "metadata": {},
   "cell_type": "markdown",
   "source": "",
   "id": "5f677daf0bd4d093"
  },
  {
   "metadata": {
    "ExecuteTime": {
     "end_time": "2024-08-08T00:57:32.168407Z",
     "start_time": "2024-08-08T00:57:32.164454Z"
    }
   },
   "cell_type": "code",
   "source": "r=data[names=='Bob',:]\n",
   "id": "6494424d5c27896b",
   "outputs": [],
   "execution_count": 44
  },
  {
   "metadata": {
    "ExecuteTime": {
     "end_time": "2024-08-08T00:57:32.192607Z",
     "start_time": "2024-08-08T00:57:32.184608Z"
    }
   },
   "cell_type": "code",
   "source": [
    "r[:]=0\n",
    "r"
   ],
   "id": "3efdd867607cf895",
   "outputs": [
    {
     "data": {
      "text/plain": [
       "array([[0., 0., 0., 0.],\n",
       "       [0., 0., 0., 0.]])"
      ]
     },
     "execution_count": 45,
     "metadata": {},
     "output_type": "execute_result"
    }
   ],
   "execution_count": 45
  },
  {
   "metadata": {
    "ExecuteTime": {
     "end_time": "2024-08-08T00:57:32.213756Z",
     "start_time": "2024-08-08T00:57:32.208750Z"
    }
   },
   "cell_type": "code",
   "source": "data",
   "id": "44933f174e7314eb",
   "outputs": [
    {
     "data": {
      "text/plain": [
       "array([[ 0.62707085, -1.28322932, -0.92254654, -0.01006598],\n",
       "       [ 1.40991197, -1.0224488 , -0.73919911,  1.07243445],\n",
       "       [ 0.61868373,  0.04793338,  0.18859366,  0.77221373],\n",
       "       [ 0.46480998,  0.07487675, -1.30819695,  1.14448516],\n",
       "       [ 0.55366376, -1.80880966,  0.55466938,  0.94200297],\n",
       "       [ 1.61049891, -0.11134448, -0.11806394, -0.80447537],\n",
       "       [-1.5866077 ,  1.16552513,  1.26756666,  2.21127999]])"
      ]
     },
     "execution_count": 46,
     "metadata": {},
     "output_type": "execute_result"
    }
   ],
   "execution_count": 46
  },
  {
   "metadata": {
    "ExecuteTime": {
     "end_time": "2024-08-08T00:57:32.285468Z",
     "start_time": "2024-08-08T00:57:32.279302Z"
    }
   },
   "cell_type": "code",
   "source": [
    "#可以在索引内部 添加布尔类型，进行批量修改数据\n",
    "data[data<0]=0  #将其中负值赋值为0\n",
    "data"
   ],
   "id": "de10f2c694158630",
   "outputs": [
    {
     "data": {
      "text/plain": [
       "array([[0.62707085, 0.        , 0.        , 0.        ],\n",
       "       [1.40991197, 0.        , 0.        , 1.07243445],\n",
       "       [0.61868373, 0.04793338, 0.18859366, 0.77221373],\n",
       "       [0.46480998, 0.07487675, 0.        , 1.14448516],\n",
       "       [0.55366376, 0.        , 0.55466938, 0.94200297],\n",
       "       [1.61049891, 0.        , 0.        , 0.        ],\n",
       "       [0.        , 1.16552513, 1.26756666, 2.21127999]])"
      ]
     },
     "execution_count": 47,
     "metadata": {},
     "output_type": "execute_result"
    }
   ],
   "execution_count": 47
  },
  {
   "metadata": {
    "ExecuteTime": {
     "end_time": "2024-08-08T00:57:32.346506Z",
     "start_time": "2024-08-08T00:57:32.341197Z"
    }
   },
   "cell_type": "code",
   "source": [
    "#花式索引 Fancy indexing  \n",
    "#利用整组数组进行索引\n",
    "arr9=np.empty((8,4),dtype=int)   #传参数是传一个元祖  8行4列\n",
    "arr9"
   ],
   "id": "a48613755a851e01",
   "outputs": [
    {
     "data": {
      "text/plain": [
       "array([[ -494942990,  1071911158,  1992265582,  1072990235],\n",
       "       [ 1406745828,  1072530816,  1322893238,  1065655673],\n",
       "       [ -722863837,  1071893569,  2078002546,  1068010169],\n",
       "       [ 1398338702,  1070080982, -1860286852,  1072215545],\n",
       "       [ 1489642595,  1071497074,  1513041541,  1068706591],\n",
       "       [ -317941542,  1073016415, -1431536033,  1072844751],\n",
       "       [  302578116,  1071757213,  1702927860,  1073541346],\n",
       "       [   41114480,  1071759322,  1750803750,  1072571619]])"
      ]
     },
     "execution_count": 48,
     "metadata": {},
     "output_type": "execute_result"
    }
   ],
   "execution_count": 48
  },
  {
   "metadata": {
    "ExecuteTime": {
     "end_time": "2024-08-08T00:57:32.383952Z",
     "start_time": "2024-08-08T00:57:32.377630Z"
    }
   },
   "cell_type": "code",
   "source": [
    "for i in range(8):   #一一赋值\n",
    "    arr9[i]=i\n",
    "arr9      "
   ],
   "id": "488be347c0b52690",
   "outputs": [
    {
     "data": {
      "text/plain": [
       "array([[0, 0, 0, 0],\n",
       "       [1, 1, 1, 1],\n",
       "       [2, 2, 2, 2],\n",
       "       [3, 3, 3, 3],\n",
       "       [4, 4, 4, 4],\n",
       "       [5, 5, 5, 5],\n",
       "       [6, 6, 6, 6],\n",
       "       [7, 7, 7, 7]])"
      ]
     },
     "execution_count": 49,
     "metadata": {},
     "output_type": "execute_result"
    }
   ],
   "execution_count": 49
  },
  {
   "metadata": {
    "ExecuteTime": {
     "end_time": "2024-08-08T00:57:32.447853Z",
     "start_time": "2024-08-08T00:57:32.442186Z"
    }
   },
   "cell_type": "code",
   "source": [
    "#为了选取特定顺序选取行子集，只需传入用于指定顺序的整数列表或者ndarrary\n",
    "arr9[[4,3,0,6]]   #传入列表，而不是单独的数字   重新排序了\n"
   ],
   "id": "fc55a7f9465e279b",
   "outputs": [
    {
     "data": {
      "text/plain": [
       "array([[4, 4, 4, 4],\n",
       "       [3, 3, 3, 3],\n",
       "       [0, 0, 0, 0],\n",
       "       [6, 6, 6, 6]])"
      ]
     },
     "execution_count": 50,
     "metadata": {},
     "output_type": "execute_result"
    }
   ],
   "execution_count": 50
  },
  {
   "metadata": {
    "ExecuteTime": {
     "end_time": "2024-08-08T00:57:32.475961Z",
     "start_time": "2024-08-08T00:57:32.470886Z"
    }
   },
   "cell_type": "code",
   "source": [
    "#或者使用负数从后面开始索引\n",
    "#切片切出来的都是映射，索引出来的模板，花式索引和切片不同，索引总是将数据复制到新数组中\n",
    "arr9[[-3,-5,-7]]#语法上区别  []  里面的索引是加括号的\n"
   ],
   "id": "df4f84fddf95cfc",
   "outputs": [
    {
     "data": {
      "text/plain": [
       "array([[5, 5, 5, 5],\n",
       "       [3, 3, 3, 3],\n",
       "       [1, 1, 1, 1]])"
      ]
     },
     "execution_count": 51,
     "metadata": {},
     "output_type": "execute_result"
    }
   ],
   "execution_count": 51
  },
  {
   "metadata": {
    "ExecuteTime": {
     "end_time": "2024-08-08T00:57:32.528724Z",
     "start_time": "2024-08-08T00:57:32.521962Z"
    }
   },
   "cell_type": "code",
   "source": [
    "#转置  ，返回到是原数据视图，不会进行任何赋值，不仅有transpose，还有T属性\n",
    "arr10=np.arange(15).reshape(3,5)  #arange同for i inrange\n",
    "#.reshape方法重塑   怎么重塑： 按行排下来\n",
    "arr10"
   ],
   "id": "c8c7253a5ea74ce0",
   "outputs": [
    {
     "data": {
      "text/plain": [
       "array([[ 0,  1,  2,  3,  4],\n",
       "       [ 5,  6,  7,  8,  9],\n",
       "       [10, 11, 12, 13, 14]])"
      ]
     },
     "execution_count": 52,
     "metadata": {},
     "output_type": "execute_result"
    }
   ],
   "execution_count": 52
  },
  {
   "metadata": {
    "ExecuteTime": {
     "end_time": "2024-08-08T00:57:32.568657Z",
     "start_time": "2024-08-08T00:57:32.563449Z"
    }
   },
   "cell_type": "code",
   "source": "arr10.T  #转置变成三列五行",
   "id": "e1aa9e8a800dd334",
   "outputs": [
    {
     "data": {
      "text/plain": [
       "array([[ 0,  5, 10],\n",
       "       [ 1,  6, 11],\n",
       "       [ 2,  7, 12],\n",
       "       [ 3,  8, 13],\n",
       "       [ 4,  9, 14]])"
      ]
     },
     "execution_count": 53,
     "metadata": {},
     "output_type": "execute_result"
    }
   ],
   "execution_count": 53
  },
  {
   "metadata": {
    "ExecuteTime": {
     "end_time": "2024-08-08T00:57:32.664053Z",
     "start_time": "2024-08-08T00:57:32.623106Z"
    }
   },
   "cell_type": "code",
   "source": [
    "#矩阵内积计算  np.dot\n",
    "arr=np.random.randn(3,3)  #包含从标准正态分布（均值为0，标准差为1）中随机抽取的数值\n",
    "np.dot(arr,arr.T)"
   ],
   "id": "78a9135d572c1b01",
   "outputs": [
    {
     "data": {
      "text/plain": [
       "array([[ 2.80029772, -0.4046237 , -1.7347908 ],\n",
       "       [-0.4046237 ,  0.14766379, -0.40854314],\n",
       "       [-1.7347908 , -0.40854314,  5.94933314]])"
      ]
     },
     "execution_count": 54,
     "metadata": {},
     "output_type": "execute_result"
    }
   ],
   "execution_count": 54
  },
  {
   "metadata": {
    "ExecuteTime": {
     "end_time": "2024-08-08T00:57:32.671208Z",
     "start_time": "2024-08-08T00:57:32.665060Z"
    }
   },
   "cell_type": "code",
   "source": [
    "arr=np.arange(9).reshape(3,3)\n",
    "np.dot(arr,arr)\n"
   ],
   "id": "42ce98b234037f1d",
   "outputs": [
    {
     "data": {
      "text/plain": [
       "array([[ 15,  18,  21],\n",
       "       [ 42,  54,  66],\n",
       "       [ 69,  90, 111]])"
      ]
     },
     "execution_count": 55,
     "metadata": {},
     "output_type": "execute_result"
    }
   ],
   "execution_count": 55
  },
  {
   "metadata": {
    "ExecuteTime": {
     "end_time": "2024-08-08T00:57:32.714698Z",
     "start_time": "2024-08-08T00:57:32.709885Z"
    }
   },
   "cell_type": "code",
   "source": [
    "#对于高维数组，需要得到一轴编号组成的元组，才能对这些轴进行转置\n",
    "arr=np.arange(16).reshape((2,2,4))#定义三维数组 两行两列 四高\n",
    "arr"
   ],
   "id": "61b8a8c188de3302",
   "outputs": [
    {
     "data": {
      "text/plain": [
       "array([[[ 0,  1,  2,  3],\n",
       "        [ 4,  5,  6,  7]],\n",
       "\n",
       "       [[ 8,  9, 10, 11],\n",
       "        [12, 13, 14, 15]]])"
      ]
     },
     "execution_count": 56,
     "metadata": {},
     "output_type": "execute_result"
    }
   ],
   "execution_count": 56
  },
  {
   "metadata": {
    "ExecuteTime": {
     "end_time": "2024-08-08T00:57:32.750609Z",
     "start_time": "2024-08-08T00:57:32.745748Z"
    }
   },
   "cell_type": "code",
   "source": [
    "arr.transpose((1,0,2))  #换了行的顺序  第一个位置放轴1  第二个位置轴0   第三个位置轴2  ，简单转置可用.T方式\n",
    "arr.swapaxes(1,2)#也是源视图，而不是复制到新数组  作用是交换轴1和轴2    类似转置  横变竖   不会进行任何复制操作"
   ],
   "id": "7f3da08d0901ffd3",
   "outputs": [
    {
     "data": {
      "text/plain": [
       "array([[[ 0,  4],\n",
       "        [ 1,  5],\n",
       "        [ 2,  6],\n",
       "        [ 3,  7]],\n",
       "\n",
       "       [[ 8, 12],\n",
       "        [ 9, 13],\n",
       "        [10, 14],\n",
       "        [11, 15]]])"
      ]
     },
     "execution_count": 57,
     "metadata": {},
     "output_type": "execute_result"
    }
   ],
   "execution_count": 57
  },
  {
   "metadata": {
    "ExecuteTime": {
     "end_time": "2024-08-08T00:57:32.828697Z",
     "start_time": "2024-08-08T00:57:32.826637Z"
    }
   },
   "cell_type": "code",
   "source": "",
   "id": "d7d2e78a477244cf",
   "outputs": [],
   "execution_count": 57
  },
  {
   "metadata": {
    "ExecuteTime": {
     "end_time": "2024-08-08T00:57:32.884050Z",
     "start_time": "2024-08-08T00:57:32.881342Z"
    }
   },
   "cell_type": "code",
   "source": "",
   "id": "81dd8bfd60f7aada",
   "outputs": [],
   "execution_count": 57
  }
 ],
 "metadata": {
  "kernelspec": {
   "display_name": "Python 3",
   "language": "python",
   "name": "python3"
  },
  "language_info": {
   "codemirror_mode": {
    "name": "ipython",
    "version": 2
   },
   "file_extension": ".py",
   "mimetype": "text/x-python",
   "name": "python",
   "nbconvert_exporter": "python",
   "pygments_lexer": "ipython2",
   "version": "2.7.6"
  }
 },
 "nbformat": 4,
 "nbformat_minor": 5
}
