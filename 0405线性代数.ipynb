{
 "cells": [
  {
   "metadata": {},
   "cell_type": "markdown",
   "source": "线性代数（如矩阵乘法、矩阵分解、行列式以及其他方阵数学 等）是任何数组库的重要组成部分。",
   "id": "340c09d19c4a43ce"
  },
  {
   "metadata": {},
   "cell_type": "markdown",
   "source": "",
   "id": "52edf50c60d8744a"
  },
  {
   "metadata": {
    "ExecuteTime": {
     "end_time": "2024-08-05T02:07:57.090358Z",
     "start_time": "2024-08-05T02:07:57.085960Z"
    }
   },
   "cell_type": "code",
   "source": [
    "import numpy as np\n",
    "\n",
    "#点积\n",
    "x=np.arange(0,2)\n",
    "y=np.arange(2,4)\n",
    "x"
   ],
   "id": "983b40bdbaa118da",
   "outputs": [
    {
     "data": {
      "text/plain": [
       "array([0, 1])"
      ]
     },
     "execution_count": 72,
     "metadata": {},
     "output_type": "execute_result"
    }
   ],
   "execution_count": 72
  },
  {
   "metadata": {
    "ExecuteTime": {
     "end_time": "2024-08-05T02:07:57.106423Z",
     "start_time": "2024-08-05T02:07:57.102363Z"
    }
   },
   "cell_type": "code",
   "source": "y",
   "id": "cf0580acc21ec8f8",
   "outputs": [
    {
     "data": {
      "text/plain": [
       "array([2, 3])"
      ]
     },
     "execution_count": 73,
     "metadata": {},
     "output_type": "execute_result"
    }
   ],
   "execution_count": 73
  },
  {
   "metadata": {
    "ExecuteTime": {
     "end_time": "2024-08-05T02:07:57.141903Z",
     "start_time": "2024-08-05T02:07:57.137428Z"
    }
   },
   "cell_type": "code",
   "source": "np.dot(x,y.T)   #一维数组，转置与否，结果不会有不同。二维数组转置就有关了 ，属于矩阵运算了\n",
   "id": "b3cac45d4d10a4",
   "outputs": [
    {
     "data": {
      "text/plain": [
       "3"
      ]
     },
     "execution_count": 74,
     "metadata": {},
     "output_type": "execute_result"
    }
   ],
   "execution_count": 74
  },
  {
   "metadata": {
    "ExecuteTime": {
     "end_time": "2024-08-05T02:07:57.150877Z",
     "start_time": "2024-08-05T02:07:57.142908Z"
    }
   },
   "cell_type": "code",
   "source": [
    "x = np.array([[0, 1], [2, 3]])  # 2x2 矩阵\n",
    "y = np.array([[2, 3], [4, 5]])  # 2x2 矩阵\n",
    "\n",
    "np.dot(x,y)"
   ],
   "id": "19abd90c50c894b9",
   "outputs": [
    {
     "data": {
      "text/plain": [
       "array([[ 4,  5],\n",
       "       [16, 21]])"
      ]
     },
     "execution_count": 75,
     "metadata": {},
     "output_type": "execute_result"
    }
   ],
   "execution_count": 75
  },
  {
   "metadata": {
    "ExecuteTime": {
     "end_time": "2024-08-05T02:07:57.158554Z",
     "start_time": "2024-08-05T02:07:57.151894Z"
    }
   },
   "cell_type": "code",
   "source": "np.dot(x,y.T)#  可以是矩阵运算，也可是点积，取决于数组的维度\n",
   "id": "51f61845f9581193",
   "outputs": [
    {
     "data": {
      "text/plain": [
       "array([[ 3,  5],\n",
       "       [13, 23]])"
      ]
     },
     "execution_count": 76,
     "metadata": {},
     "output_type": "execute_result"
    }
   ],
   "execution_count": 76
  },
  {
   "metadata": {
    "ExecuteTime": {
     "end_time": "2024-08-05T02:07:57.164436Z",
     "start_time": "2024-08-05T02:07:57.159559Z"
    }
   },
   "cell_type": "code",
   "source": "x.dot(y)#等价于np.dot(x,y)\n",
   "id": "86c2f10f8397690d",
   "outputs": [
    {
     "data": {
      "text/plain": [
       "array([[ 4,  5],\n",
       "       [16, 21]])"
      ]
     },
     "execution_count": 77,
     "metadata": {},
     "output_type": "execute_result"
    }
   ],
   "execution_count": 77
  },
  {
   "metadata": {},
   "cell_type": "markdown",
   "source": [
    "np.dot 函数接受两个参数，第一个参数是左边的向量，第二个参数是右边的向量。\n",
    "\n",
    "x 是调用 dot 方法的对象，所以它在左边。"
   ],
   "id": "de91a11cc83bc6b4"
  },
  {
   "metadata": {
    "ExecuteTime": {
     "end_time": "2024-08-05T02:07:57.170729Z",
     "start_time": "2024-08-05T02:07:57.165440Z"
    }
   },
   "cell_type": "code",
   "source": [
    "x = np.array([[1, 2], [3, 4]])\n",
    "y = np.ones(2)  # 调整为形状 (2,)  用于创建一个全是1的数组或者矩阵\n",
    "np.dot(x, y)"
   ],
   "id": "2057f81b47dcd3bf",
   "outputs": [
    {
     "data": {
      "text/plain": [
       "array([3., 7.])"
      ]
     },
     "execution_count": 78,
     "metadata": {},
     "output_type": "execute_result"
    }
   ],
   "execution_count": 78
  },
  {
   "metadata": {
    "ExecuteTime": {
     "end_time": "2024-08-05T02:07:57.175759Z",
     "start_time": "2024-08-05T02:07:57.171733Z"
    }
   },
   "cell_type": "code",
   "source": "x@y   #用x@y也是同样的效果  矩阵乘法\n",
   "id": "1b51cd103f4fc16b",
   "outputs": [
    {
     "data": {
      "text/plain": [
       "array([3., 7.])"
      ]
     },
     "execution_count": 79,
     "metadata": {},
     "output_type": "execute_result"
    }
   ],
   "execution_count": 79
  },
  {
   "metadata": {
    "ExecuteTime": {
     "end_time": "2024-08-05T02:07:57.182039Z",
     "start_time": "2024-08-05T02:07:57.176764Z"
    }
   },
   "cell_type": "code",
   "source": [
    "#提供了一系列方法 用于求逆和行列式  需要导入numpy.linalg中的inv qr\n",
    "\n",
    "X=(np.random.randn(3,3))\n",
    "\n",
    "mat=X.T.dot(X)\n",
    "mat"
   ],
   "id": "e44743a898b73f2f",
   "outputs": [
    {
     "data": {
      "text/plain": [
       "array([[ 2.51880117, -0.15452613,  0.17855984],\n",
       "       [-0.15452613,  3.46498028,  1.21220604],\n",
       "       [ 0.17855984,  1.21220604,  0.52185467]])"
      ]
     },
     "execution_count": 80,
     "metadata": {},
     "output_type": "execute_result"
    }
   ],
   "execution_count": 80
  },
  {
   "metadata": {
    "ExecuteTime": {
     "end_time": "2024-08-05T02:07:57.187695Z",
     "start_time": "2024-08-05T02:07:57.183045Z"
    }
   },
   "cell_type": "code",
   "source": [
    "from numpy.linalg import inv,qr\n",
    "\n",
    "mat_inv=inv(mat)\n",
    "mat_inv\n",
    "\n"
   ],
   "id": "891977c5f6c3f6fa",
   "outputs": [
    {
     "data": {
      "text/plain": [
       "array([[ 0.51060804,  0.44778495, -1.21486255],\n",
       "       [ 0.44778495,  1.93311861, -4.64361933],\n",
       "       [-1.21486255, -4.64361933, 13.11849715]])"
      ]
     },
     "execution_count": 81,
     "metadata": {},
     "output_type": "execute_result"
    }
   ],
   "execution_count": 81
  },
  {
   "metadata": {
    "ExecuteTime": {
     "end_time": "2024-08-05T02:08:07.815412Z",
     "start_time": "2024-08-05T02:08:07.811587Z"
    }
   },
   "cell_type": "code",
   "source": [
    "product=mat.dot(mat_inv)  #inv用于计算逆矩阵  需要确保方阵可逆  \n",
    "product"
   ],
   "id": "417cae861aee1183",
   "outputs": [
    {
     "data": {
      "text/plain": [
       "array([[ 1.00000000e+00, -2.55136518e-17,  4.29407788e-16],\n",
       "       [-2.36142348e-16,  1.00000000e+00,  4.56417649e-15],\n",
       "       [-1.27189192e-17,  1.10317875e-16,  1.00000000e+00]])"
      ]
     },
     "execution_count": 83,
     "metadata": {},
     "output_type": "execute_result"
    }
   ],
   "execution_count": 83
  },
  {
   "metadata": {
    "ExecuteTime": {
     "end_time": "2024-08-05T02:14:24.647544Z",
     "start_time": "2024-08-05T02:14:24.642040Z"
    }
   },
   "cell_type": "code",
   "source": [
    "q,r=qr(product)  #Q是正交阵，R是上三角矩阵， qr分解 能将矩阵进一步分解\n",
    "q"
   ],
   "id": "2bddfdf5b692eb33",
   "outputs": [
    {
     "data": {
      "text/plain": [
       "array([[-1.00000000e+00, -2.36142348e-16,  1.27189192e-17],\n",
       "       [ 2.36142348e-16, -1.00000000e+00, -1.10317875e-16],\n",
       "       [ 1.27189192e-17, -1.10317875e-16,  1.00000000e+00]])"
      ]
     },
     "execution_count": 85,
     "metadata": {},
     "output_type": "execute_result"
    }
   ],
   "execution_count": 85
  },
  {
   "metadata": {
    "ExecuteTime": {
     "end_time": "2024-08-05T02:14:27.857908Z",
     "start_time": "2024-08-05T02:14:27.853862Z"
    }
   },
   "cell_type": "code",
   "source": "r",
   "id": "5ee794cf61c090d9",
   "outputs": [
    {
     "data": {
      "text/plain": [
       "array([[-1.00000000e+00,  2.61655999e-16, -4.16688868e-16],\n",
       "       [ 0.00000000e+00, -1.00000000e+00, -4.67449436e-15],\n",
       "       [ 0.00000000e+00,  0.00000000e+00,  1.00000000e+00]])"
      ]
     },
     "execution_count": 86,
     "metadata": {},
     "output_type": "execute_result"
    }
   ],
   "execution_count": 86
  },
  {
   "metadata": {},
   "cell_type": "markdown",
   "source": [
    "# 表 4-7：常用的 numpy.linalg 函数\n",
    "\n",
    "函数  说明\n",
    "-----  ------\n",
    "diag  以一维数组的形式返回方阵的对角线（或非对角线）元素，或将一维数组转换为方阵（非对角线元素为0）\n",
    "dot   矩阵乘法\n",
    "trace 计算对角线元素的和\n",
    "det   计算矩阵行列式\n",
    "eig   计算方阵的本征值和本征向量\n",
    "inv   计算方阵的逆\n",
    "pinv  计算矩阵的 Moore-Penrose 伪逆\n",
    "qr    计算 QR 分解\n",
    "svd   计算奇异值分解（SVD）\n",
    "solve 解线性方程组 Ax = b，其中 A 为一个方阵\n",
    "lstsq 计算 Ax = b 的最小二乘解\n"
   ],
   "id": "8422b9a5f393ca5f"
  }
 ],
 "metadata": {
  "kernelspec": {
   "display_name": "Python 3",
   "language": "python",
   "name": "python3"
  },
  "language_info": {
   "codemirror_mode": {
    "name": "ipython",
    "version": 2
   },
   "file_extension": ".py",
   "mimetype": "text/x-python",
   "name": "python",
   "nbconvert_exporter": "python",
   "pygments_lexer": "ipython2",
   "version": "2.7.6"
  }
 },
 "nbformat": 4,
 "nbformat_minor": 5
}
