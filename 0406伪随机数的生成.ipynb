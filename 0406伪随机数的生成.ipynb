{
 "cells": [
  {
   "metadata": {},
   "cell_type": "markdown",
   "source": "numpy.random对random增加了补充  \n",
   "id": "7ab77d57444c9fd2"
  },
  {
   "metadata": {
    "ExecuteTime": {
     "end_time": "2024-08-05T03:31:09.527308Z",
     "start_time": "2024-08-05T03:31:09.324917Z"
    }
   },
   "cell_type": "code",
   "source": [
    "import numpy as np\n",
    "\n",
    "sample=np.random.normal(size=(4,4))#生成4*4的样本数组，且均服从正态分布  normal  生成4*4的正态分布矩阵\n",
    "sample"
   ],
   "id": "d8c09d887f906d6c",
   "outputs": [
    {
     "data": {
      "text/plain": [
       "array([[-1.21171021, -1.49696024, -1.20065492, -0.23897707],\n",
       "       [ 0.15801672,  0.46424019, -1.59845205,  1.07720435],\n",
       "       [-0.43404653,  2.02426939, -2.03551163, -1.31379788],\n",
       "       [ 0.33483534,  0.64608005, -0.56132573,  0.30055255]])"
      ]
     },
     "execution_count": 3,
     "metadata": {},
     "output_type": "execute_result"
    }
   ],
   "execution_count": 3
  },
  {
   "metadata": {
    "ExecuteTime": {
     "end_time": "2024-08-05T03:38:29.579368Z",
     "start_time": "2024-08-05T03:38:14.208994Z"
    }
   },
   "cell_type": "code",
   "source": [
    "from random import normalvariate\n",
    "import timeit\n",
    "\n",
    "# 定义N的值\n",
    "N = 1000000\n",
    "\n",
    "# 使用列表推导生成正态分布随机数\n",
    "%timeit samples = [normalvariate(0, 1) for _ in range(N)]\n",
    "\n",
    "# 使用NumPy生成正态分布随机数\n",
    "%timeit np.random.normal(size=N)\n",
    "\n",
    "#可见时间相差十几倍\n"
   ],
   "id": "6d6f4d8a59847aa0",
   "outputs": [
    {
     "name": "stdout",
     "output_type": "stream",
     "text": [
      "471 ms ± 11.2 ms per loop (mean ± std. dev. of 7 runs, 1 loop each)\n",
      "14.3 ms ± 237 μs per loop (mean ± std. dev. of 7 runs, 100 loops each)\n"
     ]
    }
   ],
   "execution_count": 4
  },
  {
   "metadata": {
    "ExecuteTime": {
     "end_time": "2024-08-05T03:54:30.157724Z",
     "start_time": "2024-08-05T03:54:30.151021Z"
    }
   },
   "cell_type": "code",
   "source": [
    "#这些随机数 都是基于随机数生成中字，在确定性条件下生成的，使用NumPy可更改随机数生成种子只需要在开始生成随机数之前设置一次种子，然后生成的所有随机数都是这个种子对应的确定序列的一部分。如果你需要在不同的地方生成相同的随机数序列，可以在每次生成之前重新设置种子\n",
    "ran=np.random.seed(1234)\n",
    "sample=np.random.normal(size=(4,4))\n",
    "sample"
   ],
   "id": "e15214cfb6144339",
   "outputs": [
    {
     "data": {
      "text/plain": [
       "array([[ 4.71435164e-01, -1.19097569e+00,  1.43270697e+00,\n",
       "        -3.12651896e-01],\n",
       "       [-7.20588733e-01,  8.87162940e-01,  8.59588414e-01,\n",
       "        -6.36523504e-01],\n",
       "       [ 1.56963721e-02, -2.24268495e+00,  1.15003572e+00,\n",
       "         9.91946022e-01],\n",
       "       [ 9.53324128e-01, -2.02125482e+00, -3.34077366e-01,\n",
       "         2.11836468e-03]])"
      ]
     },
     "execution_count": 11,
     "metadata": {},
     "output_type": "execute_result"
    }
   ],
   "execution_count": 11
  },
  {
   "metadata": {
    "ExecuteTime": {
     "end_time": "2024-08-05T04:18:41.698394Z",
     "start_time": "2024-08-05T04:18:41.694138Z"
    }
   },
   "cell_type": "code",
   "source": [
    "ran=np.random.seed(1234)  #设置种子，种子相同，值也就定下来了\n",
    "random_numbers = np.random.rand(5)\n",
    "random_numbers"
   ],
   "id": "c08f1993648ba3fd",
   "outputs": [
    {
     "data": {
      "text/plain": [
       "array([0.19151945, 0.62210877, 0.43772774, 0.78535858, 0.77997581])"
      ]
     },
     "execution_count": 17,
     "metadata": {},
     "output_type": "execute_result"
    }
   ],
   "execution_count": 17
  },
  {
   "metadata": {
    "ExecuteTime": {
     "end_time": "2024-08-05T04:18:39.451947Z",
     "start_time": "2024-08-05T04:18:39.445123Z"
    }
   },
   "cell_type": "code",
   "source": [
    "ran=np.random.seed(1234)\n",
    "random_numbers = np.random.rand(5)\n",
    "random_numbers"
   ],
   "id": "c0415fad76858262",
   "outputs": [
    {
     "data": {
      "text/plain": [
       "array([0.19151945, 0.62210877, 0.43772774, 0.78535858, 0.77997581])"
      ]
     },
     "execution_count": 16,
     "metadata": {},
     "output_type": "execute_result"
    }
   ],
   "execution_count": 16
  },
  {
   "metadata": {
    "ExecuteTime": {
     "end_time": "2024-08-05T04:30:25.639418Z",
     "start_time": "2024-08-05T04:30:25.633915Z"
    }
   },
   "cell_type": "code",
   "source": [
    "#避免全局随机种子，可以用numpy.random.RandomState 创建局部的随机数生成器\n",
    "rng=np.random.RandomState(1234)\n",
    "rng.randn(10)\n"
   ],
   "id": "32920fcea68c398c",
   "outputs": [
    {
     "data": {
      "text/plain": [
       "array([ 0.47143516, -1.19097569,  1.43270697, -0.3126519 , -0.72058873,\n",
       "        0.88716294,  0.85958841, -0.6365235 ,  0.01569637, -2.24268495])"
      ]
     },
     "execution_count": 18,
     "metadata": {},
     "output_type": "execute_result"
    }
   ],
   "execution_count": 18
  },
  {
   "metadata": {},
   "cell_type": "markdown",
   "source": [
    "表4-8：部分numpy.random函数\n",
    "\n",
    "函数       说明\n",
    "seed       确定随机数生成器的种子\n",
    "permutation 返回一个序列的随机排列或返回一个随机排列的范围\n",
    "shuffle    对一个序列就地随机排列\n",
    "rand       产生均匀分布的样本值\n",
    "randint    从给定的上下限范围内随机选取整数\n",
    "randn      产生正态分布（平均值为0，标准差为1）的样本值，类似于MATLAB接口\n",
    "binomial   产生二项分布的样本值\n",
    "normal     产生正态（高斯）分布的样本值\n",
    "beta       产生Beta分布的样本值\n",
    "\n",
    "表4-8：部分numpy.random函数（续）\n",
    "\n",
    "函数       说明\n",
    "chisquare  产生卡方分布的样本值\n",
    "gamma      产生Gamma分布的样本值\n",
    "uniform    产生在[0, 1)中均匀分布的样本值\n"
   ],
   "id": "88654f91e799dcf"
  },
  {
   "metadata": {},
   "cell_type": "code",
   "outputs": [],
   "execution_count": null,
   "source": "",
   "id": "643495c1b1d0c351"
  }
 ],
 "metadata": {
  "kernelspec": {
   "display_name": "Python 3",
   "language": "python",
   "name": "python3"
  },
  "language_info": {
   "codemirror_mode": {
    "name": "ipython",
    "version": 2
   },
   "file_extension": ".py",
   "mimetype": "text/x-python",
   "name": "python",
   "nbconvert_exporter": "python",
   "pygments_lexer": "ipython2",
   "version": "2.7.6"
  }
 },
 "nbformat": 4,
 "nbformat_minor": 5
}
