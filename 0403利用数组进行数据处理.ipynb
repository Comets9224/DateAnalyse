{
 "cells": [
  {
   "metadata": {},
   "cell_type": "markdown",
   "source": [
    "将许多数据处理任务表述为简洁的数组，否则需要写循环，用数组，代替循环的操作称作矢量化\n",
    "矢量化数组操作运算比等价的纯python快\n",
    "——广播就是针对矢量化的强大手段"
   ],
   "id": "e2be52dfe786664a"
  },
  {
   "metadata": {
    "ExecuteTime": {
     "end_time": "2024-08-04T10:05:10.677498Z",
     "start_time": "2024-08-04T10:05:10.488424Z"
    }
   },
   "cell_type": "code",
   "source": [
    "import numpy as np\n",
    "\n",
    "#假设我们想在一组网格类型上计算函数sqrt(x^2+y^2)\n",
    "#np.meshgrid 接收两个一维数组产生两个二维矩阵  对应两个数组中的所有(x,y)对\n",
    "x=np.arange(1,4)\n",
    "x\n"
   ],
   "id": "d686e5b162e5b13e",
   "outputs": [
    {
     "data": {
      "text/plain": [
       "array([1, 2, 3])"
      ]
     },
     "execution_count": 2,
     "metadata": {},
     "output_type": "execute_result"
    }
   ],
   "execution_count": 2
  },
  {
   "metadata": {
    "ExecuteTime": {
     "end_time": "2024-08-04T10:05:10.686024Z",
     "start_time": "2024-08-04T10:05:10.678513Z"
    }
   },
   "cell_type": "code",
   "source": [
    "y=np.arange(4,7)\n",
    "y\n"
   ],
   "id": "56dd55596fc40ef0",
   "outputs": [
    {
     "data": {
      "text/plain": [
       "array([4, 5, 6])"
      ]
     },
     "execution_count": 3,
     "metadata": {},
     "output_type": "execute_result"
    }
   ],
   "execution_count": 3
  },
  {
   "metadata": {
    "ExecuteTime": {
     "end_time": "2024-08-04T10:05:10.699301Z",
     "start_time": "2024-08-04T10:05:10.687029Z"
    }
   },
   "cell_type": "code",
   "source": [
    "xs,ys=np.meshgrid(x,y)#xs矩阵的每一行都是x的复制，ys的每一列都是y的复制\n",
    "xs  "
   ],
   "id": "ad8650c52c1e5eeb",
   "outputs": [
    {
     "data": {
      "text/plain": [
       "array([[1, 2, 3],\n",
       "       [1, 2, 3],\n",
       "       [1, 2, 3]])"
      ]
     },
     "execution_count": 4,
     "metadata": {},
     "output_type": "execute_result"
    }
   ],
   "execution_count": 4
  },
  {
   "metadata": {
    "ExecuteTime": {
     "end_time": "2024-08-04T10:05:10.705246Z",
     "start_time": "2024-08-04T10:05:10.700308Z"
    }
   },
   "cell_type": "code",
   "source": "ys\n",
   "id": "fc4a789041202f12",
   "outputs": [
    {
     "data": {
      "text/plain": [
       "array([[4, 4, 4],\n",
       "       [5, 5, 5],\n",
       "       [6, 6, 6]])"
      ]
     },
     "execution_count": 5,
     "metadata": {},
     "output_type": "execute_result"
    }
   ],
   "execution_count": 5
  },
  {
   "metadata": {
    "ExecuteTime": {
     "end_time": "2024-08-04T10:05:10.711718Z",
     "start_time": "2024-08-04T10:05:10.706256Z"
    }
   },
   "cell_type": "code",
   "source": [
    "z=np.sqrt(xs**2+ys**2)\n",
    "z"
   ],
   "id": "a78c04d85bf4cb5e",
   "outputs": [
    {
     "data": {
      "text/plain": [
       "array([[4.12310563, 4.47213595, 5.        ],\n",
       "       [5.09901951, 5.38516481, 5.83095189],\n",
       "       [6.08276253, 6.32455532, 6.70820393]])"
      ]
     },
     "execution_count": 6,
     "metadata": {},
     "output_type": "execute_result"
    }
   ],
   "execution_count": 6
  },
  {
   "metadata": {
    "ExecuteTime": {
     "end_time": "2024-08-04T10:05:11.346708Z",
     "start_time": "2024-08-04T10:05:10.731725Z"
    }
   },
   "cell_type": "code",
   "source": [
    "import matplotlib.pyplot as plt\n",
    "plt.imshow(z,cmap=plt.cm.gray);\n",
    "plt.colorbar"
   ],
   "id": "a4356ddfe0f7f38",
   "outputs": [
    {
     "data": {
      "text/plain": [
       "<function matplotlib.pyplot.colorbar(mappable: 'ScalarMappable | None' = None, cax: 'matplotlib.axes.Axes | None' = None, ax: 'matplotlib.axes.Axes | Iterable[matplotlib.axes.Axes] | None' = None, **kwargs) -> 'Colorbar'>"
      ]
     },
     "execution_count": 7,
     "metadata": {},
     "output_type": "execute_result"
    },
    {
     "data": {
      "text/plain": [
       "<Figure size 640x480 with 1 Axes>"
      ],
      "image/png": "[encoded data removed]"
     },
     "metadata": {},
     "output_type": "display_data"
    }
   ],
   "execution_count": 7
  },
  {
   "metadata": {
    "ExecuteTime": {
     "end_time": "2024-08-04T10:05:11.428669Z",
     "start_time": "2024-08-04T10:05:11.347713Z"
    }
   },
   "cell_type": "code",
   "source": "plt.title('image')",
   "id": "5c28717539432ede",
   "outputs": [
    {
     "data": {
      "text/plain": [
       "Text(0.5, 1.0, 'image')"
      ]
     },
     "execution_count": 8,
     "metadata": {},
     "output_type": "execute_result"
    },
    {
     "data": {
      "text/plain": [
       "<Figure size 640x480 with 1 Axes>"
      ],
      "image/png": "[encoded data removed]"
     },
     "metadata": {},
     "output_type": "display_data"
    }
   ],
   "execution_count": 8
  },
  {
   "metadata": {
    "ExecuteTime": {
     "end_time": "2024-08-04T10:05:11.434890Z",
     "start_time": "2024-08-04T10:05:11.429673Z"
    }
   },
   "cell_type": "code",
   "source": [
    "#numpy.where 函数是三元表达式  x if condition else y 的矢量化版本\n",
    "xarr=np.array([1.1,1.2,1.3,1.4,1.5])   #加不加小括号是不一样的\n",
    "yarr=np.array([2.1,2.2,2.3,2.4,2.5])\n",
    "cond=np.array([True,False,True,True,False]) #当为True 选x中的，否则从y中选\n",
    "#则，列表推导式\n",
    "result=np.where(cond,xarr,yarr)#cond 是条件True选x元素，Fales 选y中元素\n",
    "print(result)\n",
    "        "
   ],
   "id": "b7fb4daa87a79c23",
   "outputs": [
    {
     "name": "stdout",
     "output_type": "stream",
     "text": [
      "[1.1 2.2 1.3 1.4 2.5]\n"
     ]
    }
   ],
   "execution_count": 9
  },
  {
   "metadata": {},
   "cell_type": "markdown",
   "source": "用np.where可以解决，传统的列表生成器，对大数组处理速度不够快，且不能用于多维数组，但用np.where，就可以写的很快，很简洁\n",
   "id": "adab3b747e61027"
  },
  {
   "metadata": {},
   "cell_type": "markdown",
   "source": [
    "np.where的第二个参数和第三个参数可以不必为数组，可以上标量值\n",
    "例如，有一个随机数据组成的矩阵，你希望将所有正值替换成2，所有负值替换-2  使用np.where\n"
   ],
   "id": "bf7834bdb809735e"
  },
  {
   "metadata": {
    "ExecuteTime": {
     "end_time": "2024-08-04T10:05:11.440278Z",
     "start_time": "2024-08-04T10:05:11.435895Z"
    }
   },
   "cell_type": "code",
   "source": [
    "arr=np.random.randn(4,4)\n",
    "arr"
   ],
   "id": "f8eb7928e1879546",
   "outputs": [
    {
     "data": {
      "text/plain": [
       "array([[ 3.82300184e-02, -2.71073483e-01, -7.47619916e-01,\n",
       "         8.37973520e-01],\n",
       "       [ 2.49928979e-01, -5.98421650e-01,  1.27069395e+00,\n",
       "        -2.89078119e-01],\n",
       "       [-2.31715179e-04,  5.60357293e-01,  4.83228918e-01,\n",
       "         2.30617954e-01],\n",
       "       [-7.84129129e-01,  9.10855527e-01, -1.92970420e+00,\n",
       "        -9.82308745e-01]])"
      ]
     },
     "execution_count": 10,
     "metadata": {},
     "output_type": "execute_result"
    }
   ],
   "execution_count": 10
  },
  {
   "metadata": {
    "ExecuteTime": {
     "end_time": "2024-08-04T10:05:11.449626Z",
     "start_time": "2024-08-04T10:05:11.441285Z"
    }
   },
   "cell_type": "code",
   "source": "arr>0",
   "id": "4998cbe2cab7e6da",
   "outputs": [
    {
     "data": {
      "text/plain": [
       "array([[ True, False, False,  True],\n",
       "       [ True, False,  True, False],\n",
       "       [False,  True,  True,  True],\n",
       "       [False,  True, False, False]])"
      ]
     },
     "execution_count": 11,
     "metadata": {},
     "output_type": "execute_result"
    }
   ],
   "execution_count": 11
  },
  {
   "metadata": {
    "ExecuteTime": {
     "end_time": "2024-08-04T10:05:11.456751Z",
     "start_time": "2024-08-04T10:05:11.450632Z"
    }
   },
   "cell_type": "code",
   "source": "np.where(arr>0,2,-2)  #判断就变的很简单了，可以不必是数组，可以是标量数字\n",
   "id": "f50dd3e24b07fa63",
   "outputs": [
    {
     "data": {
      "text/plain": [
       "array([[ 2, -2, -2,  2],\n",
       "       [ 2, -2,  2, -2],\n",
       "       [-2,  2,  2,  2],\n",
       "       [-2,  2, -2, -2]])"
      ]
     },
     "execution_count": 12,
     "metadata": {},
     "output_type": "execute_result"
    }
   ],
   "execution_count": 12
  },
  {
   "metadata": {
    "ExecuteTime": {
     "end_time": "2024-08-04T10:05:11.462992Z",
     "start_time": "2024-08-04T10:05:11.457756Z"
    }
   },
   "cell_type": "code",
   "source": "np.where(arr>0,2,arr)  #不符合的就不变\n",
   "id": "93837ff2cc65a9d9",
   "outputs": [
    {
     "data": {
      "text/plain": [
       "array([[ 2.00000000e+00, -2.71073483e-01, -7.47619916e-01,\n",
       "         2.00000000e+00],\n",
       "       [ 2.00000000e+00, -5.98421650e-01,  2.00000000e+00,\n",
       "        -2.89078119e-01],\n",
       "       [-2.31715179e-04,  2.00000000e+00,  2.00000000e+00,\n",
       "         2.00000000e+00],\n",
       "       [-7.84129129e-01,  2.00000000e+00, -1.92970420e+00,\n",
       "        -9.82308745e-01]])"
      ]
     },
     "execution_count": 13,
     "metadata": {},
     "output_type": "execute_result"
    }
   ],
   "execution_count": 13
  },
  {
   "metadata": {
    "ExecuteTime": {
     "end_time": "2024-08-04T10:05:11.468891Z",
     "start_time": "2024-08-04T10:05:11.463998Z"
    }
   },
   "cell_type": "code",
   "source": [
    "#数学和统计方法函数  sum、mean、std标准差等聚合操作\n",
    "arr=np.random.randn(5,4)\n",
    "arr\n"
   ],
   "id": "b4bb97195cb8b2ec",
   "outputs": [
    {
     "data": {
      "text/plain": [
       "array([[ 0.17592759, -1.3114181 , -0.31091591,  0.67950669],\n",
       "       [ 1.59751346, -1.09803469, -0.10391781, -0.93514549],\n",
       "       [-0.60979723, -0.56740363,  1.25152131,  0.52468948],\n",
       "       [-0.17955983, -0.27586047,  0.41464289, -0.62906389],\n",
       "       [-2.08525158,  0.12147368,  0.31868721,  0.26254009]])"
      ]
     },
     "execution_count": 14,
     "metadata": {},
     "output_type": "execute_result"
    }
   ],
   "execution_count": 14
  },
  {
   "metadata": {
    "ExecuteTime": {
     "end_time": "2024-08-04T10:05:11.474916Z",
     "start_time": "2024-08-04T10:05:11.470898Z"
    }
   },
   "cell_type": "code",
   "source": "arr.mean()#默认情况下，它会计算数组中所有元素的平均值。不过，你也可以通过指定 axis 参数来计算沿特定轴的平均值。",
   "id": "8472291ea3eaa659",
   "outputs": [
    {
     "data": {
      "text/plain": [
       "-0.13799331040687368"
      ]
     },
     "execution_count": 15,
     "metadata": {},
     "output_type": "execute_result"
    }
   ],
   "execution_count": 15
  },
  {
   "metadata": {
    "ExecuteTime": {
     "end_time": "2024-08-04T10:05:11.480705Z",
     "start_time": "2024-08-04T10:05:11.476921Z"
    }
   },
   "cell_type": "code",
   "source": [
    "#既可以当方法，也可以当实例调用\n",
    "np.mean(arr)   #上下两种方法都是可以的\n"
   ],
   "id": "108248f35fda87cc",
   "outputs": [
    {
     "data": {
      "text/plain": [
       "-0.13799331040687368"
      ]
     },
     "execution_count": 16,
     "metadata": {},
     "output_type": "execute_result"
    }
   ],
   "execution_count": 16
  },
  {
   "metadata": {
    "ExecuteTime": {
     "end_time": "2024-08-04T10:05:11.485858Z",
     "start_time": "2024-08-04T10:05:11.481717Z"
    }
   },
   "cell_type": "code",
   "source": "arr.sum()",
   "id": "59be3b588b985791",
   "outputs": [
    {
     "data": {
      "text/plain": [
       "-2.7598662081374736"
      ]
     },
     "execution_count": 17,
     "metadata": {},
     "output_type": "execute_result"
    }
   ],
   "execution_count": 17
  },
  {
   "metadata": {
    "ExecuteTime": {
     "end_time": "2024-08-04T10:05:11.490743Z",
     "start_time": "2024-08-04T10:05:11.486866Z"
    }
   },
   "cell_type": "code",
   "source": "np.sum(arr)",
   "id": "11076c8813f2696f",
   "outputs": [
    {
     "data": {
      "text/plain": [
       "-2.7598662081374736"
      ]
     },
     "execution_count": 18,
     "metadata": {},
     "output_type": "execute_result"
    }
   ],
   "execution_count": 18
  },
  {
   "metadata": {
    "ExecuteTime": {
     "end_time": "2024-08-04T10:05:11.497377Z",
     "start_time": "2024-08-04T10:05:11.491749Z"
    }
   },
   "cell_type": "code",
   "source": [
    "#还可以接受轴\n",
    "arr.mean(axis=0)  "
   ],
   "id": "135aa5b986dd80bc",
   "outputs": [
    {
     "data": {
      "text/plain": [
       "array([-0.22023352, -0.62624864,  0.31400354, -0.01949462])"
      ]
     },
     "execution_count": 19,
     "metadata": {},
     "output_type": "execute_result"
    }
   ],
   "execution_count": 19
  },
  {
   "metadata": {
    "ExecuteTime": {
     "end_time": "2024-08-04T10:05:11.505099Z",
     "start_time": "2024-08-04T10:05:11.500381Z"
    }
   },
   "cell_type": "code",
   "source": "arr.sum(axis=1)  ",
   "id": "df0f3b54e2d7b6d7",
   "outputs": [
    {
     "data": {
      "text/plain": [
       "array([-0.76689973, -0.53958452,  0.59900993, -0.66984129, -1.38255059])"
      ]
     },
     "execution_count": 20,
     "metadata": {},
     "output_type": "execute_result"
    }
   ],
   "execution_count": 20
  },
  {
   "metadata": {},
   "cell_type": "markdown",
   "source": [
    "固定的，轴0是列，轴1是行\n",
    "聚合”操作是指将多个数值通过某种方式组合成一个单一的统计值，例如求和、求平均值、求最大值等。聚合操作会减少数组的维度。例如，如果你对一个二维数组进行聚合操作，结果通常是一个一维数组或一个标量值。\n",
    "非聚合操作则不会减少数组的维度，而是返回一个与输入数组维度相同的数组。例如：\n",
    "\n",
    "cumsum：计算累积和。\n",
    "cumprod：计算累积积。\n",
    "这些操作会返回一个中间结果组成的数组，维度与输入数组相同。\n"
   ],
   "id": "a3348813fd317f2"
  },
  {
   "metadata": {
    "ExecuteTime": {
     "end_time": "2024-08-04T10:05:11.510206Z",
     "start_time": "2024-08-04T10:05:11.506105Z"
    }
   },
   "cell_type": "code",
   "source": [
    "arr=np.arange(8)\n",
    "arr"
   ],
   "id": "f37e04ede335121",
   "outputs": [
    {
     "data": {
      "text/plain": [
       "array([0, 1, 2, 3, 4, 5, 6, 7])"
      ]
     },
     "execution_count": 21,
     "metadata": {},
     "output_type": "execute_result"
    }
   ],
   "execution_count": 21
  },
  {
   "metadata": {
    "ExecuteTime": {
     "end_time": "2024-08-04T10:05:11.517520Z",
     "start_time": "2024-08-04T10:05:11.511210Z"
    }
   },
   "cell_type": "code",
   "source": "arr.cumsum()",
   "id": "d6b31c98e045137f",
   "outputs": [
    {
     "data": {
      "text/plain": [
       "array([ 0,  1,  3,  6, 10, 15, 21, 28])"
      ]
     },
     "execution_count": 22,
     "metadata": {},
     "output_type": "execute_result"
    }
   ],
   "execution_count": 22
  },
  {
   "metadata": {
    "ExecuteTime": {
     "end_time": "2024-08-04T10:05:11.522834Z",
     "start_time": "2024-08-04T10:05:11.518536Z"
    }
   },
   "cell_type": "code",
   "source": [
    "arr=np.arange(1,13).reshape((4,3))  #shape not same reshape\n",
    "arr"
   ],
   "id": "6b9f75c66ffa48e8",
   "outputs": [
    {
     "data": {
      "text/plain": [
       "array([[ 1,  2,  3],\n",
       "       [ 4,  5,  6],\n",
       "       [ 7,  8,  9],\n",
       "       [10, 11, 12]])"
      ]
     },
     "execution_count": 23,
     "metadata": {},
     "output_type": "execute_result"
    }
   ],
   "execution_count": 23
  },
  {
   "metadata": {
    "ExecuteTime": {
     "end_time": "2024-08-04T10:05:11.527684Z",
     "start_time": "2024-08-04T10:05:11.523841Z"
    }
   },
   "cell_type": "code",
   "source": "arr.cumsum(axis=0)  #列轴是，前面的所有想加到当前  而不是仅和前面这个元素想加  也是新建一\n",
   "id": "e10e035dbefe7082",
   "outputs": [
    {
     "data": {
      "text/plain": [
       "array([[ 1,  2,  3],\n",
       "       [ 5,  7,  9],\n",
       "       [12, 15, 18],\n",
       "       [22, 26, 30]])"
      ]
     },
     "execution_count": 24,
     "metadata": {},
     "output_type": "execute_result"
    }
   ],
   "execution_count": 24
  },
  {
   "metadata": {
    "ExecuteTime": {
     "end_time": "2024-08-04T10:05:11.532405Z",
     "start_time": "2024-08-04T10:05:11.528690Z"
    }
   },
   "cell_type": "code",
   "source": "arr.cumprod(axis=1)#也是创建一个新的数组，而不是对原数据进行修改\n",
   "id": "7068e1e7c7e01048",
   "outputs": [
    {
     "data": {
      "text/plain": [
       "array([[   1,    2,    6],\n",
       "       [   4,   20,  120],\n",
       "       [   7,   56,  504],\n",
       "       [  10,  110, 1320]])"
      ]
     },
     "execution_count": 25,
     "metadata": {},
     "output_type": "execute_result"
    }
   ],
   "execution_count": 25
  },
  {
   "metadata": {
    "ExecuteTime": {
     "end_time": "2024-08-04T10:05:11.537842Z",
     "start_time": "2024-08-04T10:05:11.533504Z"
    }
   },
   "cell_type": "code",
   "source": "arr",
   "id": "bfa3902a85f12b63",
   "outputs": [
    {
     "data": {
      "text/plain": [
       "array([[ 1,  2,  3],\n",
       "       [ 4,  5,  6],\n",
       "       [ 7,  8,  9],\n",
       "       [10, 11, 12]])"
      ]
     },
     "execution_count": 26,
     "metadata": {},
     "output_type": "execute_result"
    }
   ],
   "execution_count": 26
  },
  {
   "metadata": {},
   "cell_type": "markdown",
   "source": [
    "基本数组统计方法\n",
    "方法\n",
    "sum\n",
    "对数组中全部或某轴向的元素求和。零长度的数组的sum为0。\n",
    "mean\n",
    "计算平均数。零长度数组的mean为NaN。\n",
    "std, var\n",
    "分别为标准差和方差，自由度可调（默认为n）。\n",
    "min, max\n",
    "最大值和最小值。\n",
    "argmin, argmax\n",
    "分别为最大和最小元素的索引。\n",
    "表4-5：基本数组统计方法（续）\n",
    "方法\n",
    "cumsum\n",
    "所有元素的累计算。\n",
    "cumprod\n",
    "所有元素的累积积。\n"
   ],
   "id": "55339b5d0306d699"
  },
  {
   "metadata": {},
   "cell_type": "markdown",
   "source": "用于布尔型数组的方法： sum，any，all等方法 会把数组里的True 计为1  所以用sum能对其布尔类型数组进行计数\n",
   "id": "b80a9c41714f56b1"
  },
  {
   "metadata": {
    "ExecuteTime": {
     "end_time": "2024-08-04T10:05:11.543236Z",
     "start_time": "2024-08-04T10:05:11.538850Z"
    }
   },
   "cell_type": "code",
   "source": [
    "arr=np.random.randn(100)\n",
    "(arr>0).sum()\n"
   ],
   "id": "b62082d71fd26bfc",
   "outputs": [
    {
     "data": {
      "text/plain": [
       "39"
      ]
     },
     "execution_count": 27,
     "metadata": {},
     "output_type": "execute_result"
    }
   ],
   "execution_count": 27
  },
  {
   "metadata": {
    "ExecuteTime": {
     "end_time": "2024-08-04T10:05:11.550341Z",
     "start_time": "2024-08-04T10:05:11.546242Z"
    }
   },
   "cell_type": "code",
   "source": "(arr>0).any()  #any用于检查 是否有一个或者多个元素为true",
   "id": "b488cd05171e3af5",
   "outputs": [
    {
     "data": {
      "text/plain": [
       "True"
      ]
     },
     "execution_count": 28,
     "metadata": {},
     "output_type": "execute_result"
    }
   ],
   "execution_count": 28
  },
  {
   "metadata": {
    "ExecuteTime": {
     "end_time": "2024-08-04T10:05:11.555855Z",
     "start_time": "2024-08-04T10:05:11.551346Z"
    }
   },
   "cell_type": "code",
   "source": [
    "#all则是检查是否所有元素都是True\n",
    "(arr>0).all()"
   ],
   "id": "c686c0feec5ac620",
   "outputs": [
    {
     "data": {
      "text/plain": [
       "False"
      ]
     },
     "execution_count": 29,
     "metadata": {},
     "output_type": "execute_result"
    }
   ],
   "execution_count": 29
  },
  {
   "metadata": {},
   "cell_type": "markdown",
   "source": "#这两个方法也能用于非布尔型数组，所有非0元素将会被当做True。\n",
   "id": "59c9ac61d8934cda"
  },
  {
   "metadata": {
    "ExecuteTime": {
     "end_time": "2024-08-04T10:05:11.562746Z",
     "start_time": "2024-08-04T10:05:11.558859Z"
    }
   },
   "cell_type": "code",
   "source": [
    "#排序 方法 sort\n",
    "#原地排序或生成副本\n",
    "arr=np.random.randn(5,3)\n",
    "arr"
   ],
   "id": "6b6d21168d178c1f",
   "outputs": [
    {
     "data": {
      "text/plain": [
       "array([[-0.0511932 , -1.08069349, -0.32736007],\n",
       "       [-0.36234335,  0.54419878,  0.03232178],\n",
       "       [-0.2866323 ,  0.34626303, -1.12579636],\n",
       "       [-1.1481049 , -1.16972942,  1.01149367],\n",
       "       [-0.03261661,  1.96605086, -0.05905072]])"
      ]
     },
     "execution_count": 30,
     "metadata": {},
     "output_type": "execute_result"
    }
   ],
   "execution_count": 30
  },
  {
   "metadata": {
    "ExecuteTime": {
     "end_time": "2024-08-04T10:05:11.567671Z",
     "start_time": "2024-08-04T10:05:11.563749Z"
    }
   },
   "cell_type": "code",
   "source": [
    "arr.sort(1)  #原地排序  顺序，从小到大\n",
    "arr\n"
   ],
   "id": "ac7339ad0f07d88c",
   "outputs": [
    {
     "data": {
      "text/plain": [
       "array([[-1.08069349, -0.32736007, -0.0511932 ],\n",
       "       [-0.36234335,  0.03232178,  0.54419878],\n",
       "       [-1.12579636, -0.2866323 ,  0.34626303],\n",
       "       [-1.16972942, -1.1481049 ,  1.01149367],\n",
       "       [-0.05905072, -0.03261661,  1.96605086]])"
      ]
     },
     "execution_count": 31,
     "metadata": {},
     "output_type": "execute_result"
    }
   ],
   "execution_count": 31
  },
  {
   "metadata": {
    "ExecuteTime": {
     "end_time": "2024-08-04T10:05:11.573218Z",
     "start_time": "2024-08-04T10:05:11.568674Z"
    }
   },
   "cell_type": "code",
   "source": [
    "arr1=np.sort(arr,axis=0)  #产生副本\n",
    "arr1   #列排序 想想列这条轴上  分布着数，然后排序   顺序---也就是升序"
   ],
   "id": "f3e58745b3f77410",
   "outputs": [
    {
     "data": {
      "text/plain": [
       "array([[-1.16972942, -1.1481049 , -0.0511932 ],\n",
       "       [-1.12579636, -0.32736007,  0.34626303],\n",
       "       [-1.08069349, -0.2866323 ,  0.54419878],\n",
       "       [-0.36234335, -0.03261661,  1.01149367],\n",
       "       [-0.05905072,  0.03232178,  1.96605086]])"
      ]
     },
     "execution_count": 32,
     "metadata": {},
     "output_type": "execute_result"
    }
   ],
   "execution_count": 32
  },
  {
   "metadata": {},
   "cell_type": "markdown",
   "source": [
    "总结：np.sort() 是顶级方法  产生一个已排序的副本。\n",
    "计算分位数，最简单的方法就是对其进行排序，选特定位置的值：\n",
    "如果不指定轴 np.sort()    会对最后一个轴进行排序\n",
    "\n"
   ],
   "id": "b3f382e0334d5648"
  },
  {
   "metadata": {
    "ExecuteTime": {
     "end_time": "2024-08-04T10:05:11.582957Z",
     "start_time": "2024-08-04T10:05:11.578224Z"
    }
   },
   "cell_type": "code",
   "source": [
    "#唯一化处理，集合逻辑\n",
    "names=['Bob','Joe','Will','Bob','Joe','Will','Bob','Joe','Will']\n",
    "np.unique(names)#返回独立的集合\n"
   ],
   "id": "6c50824f9f0b8080",
   "outputs": [
    {
     "data": {
      "text/plain": [
       "array(['Bob', 'Joe', 'Will'], dtype='<U4')"
      ]
     },
     "execution_count": 33,
     "metadata": {},
     "output_type": "execute_result"
    }
   ],
   "execution_count": 33
  },
  {
   "metadata": {
    "ExecuteTime": {
     "end_time": "2024-08-04T10:11:25.412207Z",
     "start_time": "2024-08-04T10:11:25.401745Z"
    }
   },
   "cell_type": "code",
   "source": [
    "#npin1d()  用于测试一个数组值在另一个数组中成员资格，返回布尔型数组\n",
    "values=np.array([6,0,0,3,2,5,6])\n",
    "np.in1d(values,[2,3,6])# values 是否有[2,3,6]的元素"
   ],
   "id": "ae5599b5d0efd9b5",
   "outputs": [
    {
     "data": {
      "text/plain": [
       "array([ True, False, False,  True,  True, False,  True])"
      ]
     },
     "execution_count": 34,
     "metadata": {},
     "output_type": "execute_result"
    }
   ],
   "execution_count": 34
  },
  {
   "metadata": {},
   "cell_type": "markdown",
   "source": [
    "unique(x)\t计算x中的唯一元素，并返回有序结果\n",
    "intersect1d(x, y)\t计算x和y中的公共元素，并返回有序结果\n",
    "union1d(x, y)\t计算x和y的并集，并返回有序结果\n",
    "in1d(x, y)\t得到一个表示“x的元素是否包含于y”的布尔型数组\n",
    "setdiff1d(x, y)\t集合的差，即元素在x中且不在y中\n",
    "setxor1d(x, y)\t集合的对称差，即存在于于一个数组中但不存在于两个数组中的元素\n",
    "\n",
    "\n",
    "\n",
    "\n",
    "NumPy 中轴的定义\n",
    "轴 0 (axis=0): 沿着行方向操作，即对每一列进行操作。\n",
    "轴 1 (axis=1): 沿着列方向操作，即对每一行进行操作。\n",
    "常见函数及其轴操作\n",
    "np.sum: 计算数组元素的和。\n",
    "\n",
    "axis=0: 对每一列计算和。\n",
    "axis=1: 对每一行计算和。\n",
    "np.mean: 计算数组元素的均值。\n",
    "\n",
    "axis=0: 对每一列计算均值。\n",
    "axis=1: 对每一行计算均值。\n",
    "np.max / np.min: 计算数组元素的最大值和最小值。\n",
    "\n",
    "axis=0: 对每一列计算最大值或最小值。\n",
    "axis=1: 对每一行计算最大值或最小值。\n",
    "np.prod: 计算数组元素的乘积。\n",
    "\n",
    "axis=0: 对每一列计算乘积。\n",
    "axis=1: 对每一行计算乘积。\n",
    "np.cumsum / np.cumprod: 计算数组元素的累积和和累积乘积。\n",
    "\n",
    "axis=0: 对每一列计算累积和或累积乘积。\n",
    "axis=1: 对每一行计算累积和或累积乘积。\n",
    "np.var / np.std: 计算数组元素的方差和标准差。\n",
    "\n",
    "axis=0: 对每一列计算方差或标准差。\n",
    "axis=1: 对每一行计算方差或标准差。\n",
    "np.median: 计算数组元素的中位数。\n",
    "\n",
    "axis=0: 对每一列计算中位数。\n",
    "axis=1: 对每一行计算中位数。\n",
    "np.argmin / np.argmax: 计算数组元素的最小值和最大值的索引。\n",
    "\n",
    "axis=0: 对每一列计算最小值或最大值的索引。\n",
    "axis=1: 对每一行计算最小值或最大值的索引。"
   ],
   "id": "afba04090511cc41"
  }
 ],
 "metadata": {
  "kernelspec": {
   "display_name": "Python 3",
   "language": "python",
   "name": "python3"
  },
  "language_info": {
   "codemirror_mode": {
    "name": "ipython",
    "version": 2
   },
   "file_extension": ".py",
   "mimetype": "text/x-python",
   "name": "python",
   "nbconvert_exporter": "python",
   "pygments_lexer": "ipython2",
   "version": "2.7.6"
  }
 },
 "nbformat": 4,
 "nbformat_minor": 5
}
